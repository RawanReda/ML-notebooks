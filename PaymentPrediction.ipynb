{
  "nbformat": 4,
  "nbformat_minor": 0,
  "metadata": {
    "colab": {
      "name": "PaymentPrediction.ipynb",
      "provenance": [],
      "collapsed_sections": [],
      "toc_visible": true
    },
    "kernelspec": {
      "display_name": "Python 3",
      "name": "python3"
    }
  },
  "cells": [
    {
      "cell_type": "code",
      "metadata": {
        "id": "WmPmsOn_7QhD"
      },
      "source": [
        "import numpy as np \n",
        "import pandas as pd \n",
        "import seaborn as sns\n",
        "import matplotlib.pyplot as plt\n",
        "from sklearn.model_selection import train_test_split\n",
        "import io\n",
        "from sklearn.preprocessing import LabelEncoder\n",
        "from sklearn.ensemble import ExtraTreesClassifier\n",
        "from sklearn.ensemble import RandomForestClassifier\n",
        "from sklearn.model_selection import GridSearchCV\n",
        "from sklearn.metrics import roc_auc_score\n",
        "from sklearn import svm"
      ],
      "execution_count": null,
      "outputs": []
    },
    {
      "cell_type": "code",
      "metadata": {
        "id": "T3-LY8Ohzh58",
        "colab": {
          "base_uri": "https://localhost:8080/"
        },
        "outputId": "e53fbd91-eb4e-4774-96d7-f732ba46a75b"
      },
      "source": [
        "\n",
        "from google.colab import drive\n",
        "drive.mount('/content/drive')"
      ],
      "execution_count": null,
      "outputs": [
        {
          "output_type": "stream",
          "text": [
            "Drive already mounted at /content/drive; to attempt to forcibly remount, call drive.mount(\"/content/drive\", force_remount=True).\n"
          ],
          "name": "stdout"
        }
      ]
    },
    {
      "cell_type": "code",
      "metadata": {
        "id": "kR98qcRh7PuL"
      },
      "source": [
        "train = pd.read_csv('/content/drive/My Drive/Colab Notebooks/task.csv')"
      ],
      "execution_count": null,
      "outputs": []
    },
    {
      "cell_type": "code",
      "metadata": {
        "id": "g6KE-Bfwa3gz",
        "colab": {
          "base_uri": "https://localhost:8080/"
        },
        "outputId": "d5e1c4b8-a546-4029-f70d-fc43d77e828d"
      },
      "source": [
        "train.shape"
      ],
      "execution_count": null,
      "outputs": [
        {
          "output_type": "execute_result",
          "data": {
            "text/plain": [
              "(32561, 15)"
            ]
          },
          "metadata": {
            "tags": []
          },
          "execution_count": 190
        }
      ]
    },
    {
      "cell_type": "code",
      "metadata": {
        "id": "TbSNGdsq-BSP",
        "colab": {
          "base_uri": "https://localhost:8080/",
          "height": 399
        },
        "outputId": "d0a0dda8-9732-4023-beb4-0014f85c43dd"
      },
      "source": [
        "train"
      ],
      "execution_count": null,
      "outputs": [
        {
          "output_type": "execute_result",
          "data": {
            "text/html": [
              "<div>\n",
              "<style scoped>\n",
              "    .dataframe tbody tr th:only-of-type {\n",
              "        vertical-align: middle;\n",
              "    }\n",
              "\n",
              "    .dataframe tbody tr th {\n",
              "        vertical-align: top;\n",
              "    }\n",
              "\n",
              "    .dataframe thead th {\n",
              "        text-align: right;\n",
              "    }\n",
              "</style>\n",
              "<table border=\"1\" class=\"dataframe\">\n",
              "  <thead>\n",
              "    <tr style=\"text-align: right;\">\n",
              "      <th></th>\n",
              "      <th>age</th>\n",
              "      <th>workclass</th>\n",
              "      <th>fnlwgt</th>\n",
              "      <th>education</th>\n",
              "      <th>education.num</th>\n",
              "      <th>marital.status</th>\n",
              "      <th>occupation</th>\n",
              "      <th>relationship</th>\n",
              "      <th>race</th>\n",
              "      <th>sex</th>\n",
              "      <th>capital.gain</th>\n",
              "      <th>capital.loss</th>\n",
              "      <th>hours.per.week</th>\n",
              "      <th>native.country</th>\n",
              "      <th>income</th>\n",
              "    </tr>\n",
              "  </thead>\n",
              "  <tbody>\n",
              "    <tr>\n",
              "      <th>0</th>\n",
              "      <td>90</td>\n",
              "      <td>?</td>\n",
              "      <td>77053</td>\n",
              "      <td>HS-grad</td>\n",
              "      <td>9</td>\n",
              "      <td>Widowed</td>\n",
              "      <td>?</td>\n",
              "      <td>Not-in-family</td>\n",
              "      <td>White</td>\n",
              "      <td>Female</td>\n",
              "      <td>0</td>\n",
              "      <td>4356</td>\n",
              "      <td>40</td>\n",
              "      <td>United-States</td>\n",
              "      <td>&lt;=50K</td>\n",
              "    </tr>\n",
              "    <tr>\n",
              "      <th>1</th>\n",
              "      <td>82</td>\n",
              "      <td>Private</td>\n",
              "      <td>132870</td>\n",
              "      <td>HS-grad</td>\n",
              "      <td>9</td>\n",
              "      <td>Widowed</td>\n",
              "      <td>Exec-managerial</td>\n",
              "      <td>Not-in-family</td>\n",
              "      <td>White</td>\n",
              "      <td>Female</td>\n",
              "      <td>0</td>\n",
              "      <td>4356</td>\n",
              "      <td>18</td>\n",
              "      <td>United-States</td>\n",
              "      <td>&lt;=50K</td>\n",
              "    </tr>\n",
              "    <tr>\n",
              "      <th>2</th>\n",
              "      <td>66</td>\n",
              "      <td>?</td>\n",
              "      <td>186061</td>\n",
              "      <td>Some-college</td>\n",
              "      <td>10</td>\n",
              "      <td>Widowed</td>\n",
              "      <td>?</td>\n",
              "      <td>Unmarried</td>\n",
              "      <td>Black</td>\n",
              "      <td>Female</td>\n",
              "      <td>0</td>\n",
              "      <td>4356</td>\n",
              "      <td>40</td>\n",
              "      <td>United-States</td>\n",
              "      <td>&lt;=50K</td>\n",
              "    </tr>\n",
              "    <tr>\n",
              "      <th>3</th>\n",
              "      <td>54</td>\n",
              "      <td>Private</td>\n",
              "      <td>140359</td>\n",
              "      <td>7th-8th</td>\n",
              "      <td>4</td>\n",
              "      <td>Divorced</td>\n",
              "      <td>Machine-op-inspct</td>\n",
              "      <td>Unmarried</td>\n",
              "      <td>White</td>\n",
              "      <td>Female</td>\n",
              "      <td>0</td>\n",
              "      <td>3900</td>\n",
              "      <td>40</td>\n",
              "      <td>United-States</td>\n",
              "      <td>&lt;=50K</td>\n",
              "    </tr>\n",
              "    <tr>\n",
              "      <th>4</th>\n",
              "      <td>41</td>\n",
              "      <td>Private</td>\n",
              "      <td>264663</td>\n",
              "      <td>Some-college</td>\n",
              "      <td>10</td>\n",
              "      <td>Separated</td>\n",
              "      <td>Prof-specialty</td>\n",
              "      <td>Own-child</td>\n",
              "      <td>White</td>\n",
              "      <td>Female</td>\n",
              "      <td>0</td>\n",
              "      <td>3900</td>\n",
              "      <td>40</td>\n",
              "      <td>United-States</td>\n",
              "      <td>&lt;=50K</td>\n",
              "    </tr>\n",
              "    <tr>\n",
              "      <th>...</th>\n",
              "      <td>...</td>\n",
              "      <td>...</td>\n",
              "      <td>...</td>\n",
              "      <td>...</td>\n",
              "      <td>...</td>\n",
              "      <td>...</td>\n",
              "      <td>...</td>\n",
              "      <td>...</td>\n",
              "      <td>...</td>\n",
              "      <td>...</td>\n",
              "      <td>...</td>\n",
              "      <td>...</td>\n",
              "      <td>...</td>\n",
              "      <td>...</td>\n",
              "      <td>...</td>\n",
              "    </tr>\n",
              "    <tr>\n",
              "      <th>32556</th>\n",
              "      <td>22</td>\n",
              "      <td>Private</td>\n",
              "      <td>310152</td>\n",
              "      <td>Some-college</td>\n",
              "      <td>10</td>\n",
              "      <td>Never-married</td>\n",
              "      <td>Protective-serv</td>\n",
              "      <td>Not-in-family</td>\n",
              "      <td>White</td>\n",
              "      <td>Male</td>\n",
              "      <td>0</td>\n",
              "      <td>0</td>\n",
              "      <td>40</td>\n",
              "      <td>United-States</td>\n",
              "      <td>&lt;=50K</td>\n",
              "    </tr>\n",
              "    <tr>\n",
              "      <th>32557</th>\n",
              "      <td>27</td>\n",
              "      <td>Private</td>\n",
              "      <td>257302</td>\n",
              "      <td>Assoc-acdm</td>\n",
              "      <td>12</td>\n",
              "      <td>Married-civ-spouse</td>\n",
              "      <td>Tech-support</td>\n",
              "      <td>Wife</td>\n",
              "      <td>White</td>\n",
              "      <td>Female</td>\n",
              "      <td>0</td>\n",
              "      <td>0</td>\n",
              "      <td>38</td>\n",
              "      <td>United-States</td>\n",
              "      <td>&lt;=50K</td>\n",
              "    </tr>\n",
              "    <tr>\n",
              "      <th>32558</th>\n",
              "      <td>40</td>\n",
              "      <td>Private</td>\n",
              "      <td>154374</td>\n",
              "      <td>HS-grad</td>\n",
              "      <td>9</td>\n",
              "      <td>Married-civ-spouse</td>\n",
              "      <td>Machine-op-inspct</td>\n",
              "      <td>Husband</td>\n",
              "      <td>White</td>\n",
              "      <td>Male</td>\n",
              "      <td>0</td>\n",
              "      <td>0</td>\n",
              "      <td>40</td>\n",
              "      <td>United-States</td>\n",
              "      <td>&gt;50K</td>\n",
              "    </tr>\n",
              "    <tr>\n",
              "      <th>32559</th>\n",
              "      <td>58</td>\n",
              "      <td>Private</td>\n",
              "      <td>151910</td>\n",
              "      <td>HS-grad</td>\n",
              "      <td>9</td>\n",
              "      <td>Widowed</td>\n",
              "      <td>Adm-clerical</td>\n",
              "      <td>Unmarried</td>\n",
              "      <td>White</td>\n",
              "      <td>Female</td>\n",
              "      <td>0</td>\n",
              "      <td>0</td>\n",
              "      <td>40</td>\n",
              "      <td>United-States</td>\n",
              "      <td>&lt;=50K</td>\n",
              "    </tr>\n",
              "    <tr>\n",
              "      <th>32560</th>\n",
              "      <td>22</td>\n",
              "      <td>Private</td>\n",
              "      <td>201490</td>\n",
              "      <td>HS-grad</td>\n",
              "      <td>9</td>\n",
              "      <td>Never-married</td>\n",
              "      <td>Adm-clerical</td>\n",
              "      <td>Own-child</td>\n",
              "      <td>White</td>\n",
              "      <td>Male</td>\n",
              "      <td>0</td>\n",
              "      <td>0</td>\n",
              "      <td>20</td>\n",
              "      <td>United-States</td>\n",
              "      <td>&lt;=50K</td>\n",
              "    </tr>\n",
              "  </tbody>\n",
              "</table>\n",
              "<p>32561 rows × 15 columns</p>\n",
              "</div>"
            ],
            "text/plain": [
              "       age workclass  fnlwgt  ... hours.per.week  native.country income\n",
              "0       90         ?   77053  ...             40   United-States  <=50K\n",
              "1       82   Private  132870  ...             18   United-States  <=50K\n",
              "2       66         ?  186061  ...             40   United-States  <=50K\n",
              "3       54   Private  140359  ...             40   United-States  <=50K\n",
              "4       41   Private  264663  ...             40   United-States  <=50K\n",
              "...    ...       ...     ...  ...            ...             ...    ...\n",
              "32556   22   Private  310152  ...             40   United-States  <=50K\n",
              "32557   27   Private  257302  ...             38   United-States  <=50K\n",
              "32558   40   Private  154374  ...             40   United-States   >50K\n",
              "32559   58   Private  151910  ...             40   United-States  <=50K\n",
              "32560   22   Private  201490  ...             20   United-States  <=50K\n",
              "\n",
              "[32561 rows x 15 columns]"
            ]
          },
          "metadata": {
            "tags": []
          },
          "execution_count": 191
        }
      ]
    },
    {
      "cell_type": "code",
      "metadata": {
        "id": "PJhxtBnBLFCz"
      },
      "source": [
        "train = train.replace('?', np.nan)"
      ],
      "execution_count": null,
      "outputs": []
    },
    {
      "cell_type": "code",
      "metadata": {
        "id": "cP9GbiRgOo8-",
        "colab": {
          "base_uri": "https://localhost:8080/"
        },
        "outputId": "08b9b636-e544-4a37-8bdc-81fbcf1e5c22"
      },
      "source": [
        "train.isnull().sum()"
      ],
      "execution_count": null,
      "outputs": [
        {
          "output_type": "execute_result",
          "data": {
            "text/plain": [
              "age                  0\n",
              "workclass         1836\n",
              "fnlwgt               0\n",
              "education            0\n",
              "education.num        0\n",
              "marital.status       0\n",
              "occupation        1843\n",
              "relationship         0\n",
              "race                 0\n",
              "sex                  0\n",
              "capital.gain         0\n",
              "capital.loss         0\n",
              "hours.per.week       0\n",
              "native.country     583\n",
              "income               0\n",
              "dtype: int64"
            ]
          },
          "metadata": {
            "tags": []
          },
          "execution_count": 193
        }
      ]
    },
    {
      "cell_type": "code",
      "metadata": {
        "id": "bL2tk3H4Mdm8",
        "colab": {
          "base_uri": "https://localhost:8080/"
        },
        "outputId": "3544d0cf-bc75-4ff7-d8b9-5affe73b7f0b"
      },
      "source": [
        "train.dtypes"
      ],
      "execution_count": null,
      "outputs": [
        {
          "output_type": "execute_result",
          "data": {
            "text/plain": [
              "age                int64\n",
              "workclass         object\n",
              "fnlwgt             int64\n",
              "education         object\n",
              "education.num      int64\n",
              "marital.status    object\n",
              "occupation        object\n",
              "relationship      object\n",
              "race              object\n",
              "sex               object\n",
              "capital.gain       int64\n",
              "capital.loss       int64\n",
              "hours.per.week     int64\n",
              "native.country    object\n",
              "income            object\n",
              "dtype: object"
            ]
          },
          "metadata": {
            "tags": []
          },
          "execution_count": 194
        }
      ]
    },
    {
      "cell_type": "markdown",
      "metadata": {
        "id": "H67ffqnk6zeL"
      },
      "source": [
        "It might be useful to check the correlation before starting out just to get an idea about the effect each feature has on other features and the target  "
      ]
    },
    {
      "cell_type": "code",
      "metadata": {
        "id": "ELL3wTlF36N1",
        "colab": {
          "base_uri": "https://localhost:8080/",
          "height": 223
        },
        "outputId": "97c69685-d27b-4eb8-f7c3-9a0f8b3781c8"
      },
      "source": [
        "train.corr()"
      ],
      "execution_count": null,
      "outputs": [
        {
          "output_type": "execute_result",
          "data": {
            "text/html": [
              "<div>\n",
              "<style scoped>\n",
              "    .dataframe tbody tr th:only-of-type {\n",
              "        vertical-align: middle;\n",
              "    }\n",
              "\n",
              "    .dataframe tbody tr th {\n",
              "        vertical-align: top;\n",
              "    }\n",
              "\n",
              "    .dataframe thead th {\n",
              "        text-align: right;\n",
              "    }\n",
              "</style>\n",
              "<table border=\"1\" class=\"dataframe\">\n",
              "  <thead>\n",
              "    <tr style=\"text-align: right;\">\n",
              "      <th></th>\n",
              "      <th>age</th>\n",
              "      <th>fnlwgt</th>\n",
              "      <th>education.num</th>\n",
              "      <th>capital.gain</th>\n",
              "      <th>capital.loss</th>\n",
              "      <th>hours.per.week</th>\n",
              "    </tr>\n",
              "  </thead>\n",
              "  <tbody>\n",
              "    <tr>\n",
              "      <th>age</th>\n",
              "      <td>1.000000</td>\n",
              "      <td>-0.076646</td>\n",
              "      <td>0.036527</td>\n",
              "      <td>0.077674</td>\n",
              "      <td>0.057775</td>\n",
              "      <td>0.068756</td>\n",
              "    </tr>\n",
              "    <tr>\n",
              "      <th>fnlwgt</th>\n",
              "      <td>-0.076646</td>\n",
              "      <td>1.000000</td>\n",
              "      <td>-0.043195</td>\n",
              "      <td>0.000432</td>\n",
              "      <td>-0.010252</td>\n",
              "      <td>-0.018768</td>\n",
              "    </tr>\n",
              "    <tr>\n",
              "      <th>education.num</th>\n",
              "      <td>0.036527</td>\n",
              "      <td>-0.043195</td>\n",
              "      <td>1.000000</td>\n",
              "      <td>0.122630</td>\n",
              "      <td>0.079923</td>\n",
              "      <td>0.148123</td>\n",
              "    </tr>\n",
              "    <tr>\n",
              "      <th>capital.gain</th>\n",
              "      <td>0.077674</td>\n",
              "      <td>0.000432</td>\n",
              "      <td>0.122630</td>\n",
              "      <td>1.000000</td>\n",
              "      <td>-0.031615</td>\n",
              "      <td>0.078409</td>\n",
              "    </tr>\n",
              "    <tr>\n",
              "      <th>capital.loss</th>\n",
              "      <td>0.057775</td>\n",
              "      <td>-0.010252</td>\n",
              "      <td>0.079923</td>\n",
              "      <td>-0.031615</td>\n",
              "      <td>1.000000</td>\n",
              "      <td>0.054256</td>\n",
              "    </tr>\n",
              "    <tr>\n",
              "      <th>hours.per.week</th>\n",
              "      <td>0.068756</td>\n",
              "      <td>-0.018768</td>\n",
              "      <td>0.148123</td>\n",
              "      <td>0.078409</td>\n",
              "      <td>0.054256</td>\n",
              "      <td>1.000000</td>\n",
              "    </tr>\n",
              "  </tbody>\n",
              "</table>\n",
              "</div>"
            ],
            "text/plain": [
              "                     age    fnlwgt  ...  capital.loss  hours.per.week\n",
              "age             1.000000 -0.076646  ...      0.057775        0.068756\n",
              "fnlwgt         -0.076646  1.000000  ...     -0.010252       -0.018768\n",
              "education.num   0.036527 -0.043195  ...      0.079923        0.148123\n",
              "capital.gain    0.077674  0.000432  ...     -0.031615        0.078409\n",
              "capital.loss    0.057775 -0.010252  ...      1.000000        0.054256\n",
              "hours.per.week  0.068756 -0.018768  ...      0.054256        1.000000\n",
              "\n",
              "[6 rows x 6 columns]"
            ]
          },
          "metadata": {
            "tags": []
          },
          "execution_count": 195
        }
      ]
    },
    {
      "cell_type": "code",
      "metadata": {
        "id": "lkSBMfomFgHC"
      },
      "source": [
        "train['income']=train['income'].astype('category').cat.codes\n"
      ],
      "execution_count": null,
      "outputs": []
    },
    {
      "cell_type": "markdown",
      "metadata": {
        "id": "EhKO16TTHSbT"
      },
      "source": [
        "From The correlation matrix below we find that there in no relation between fnlwgt and the income so this column should be removed"
      ]
    },
    {
      "cell_type": "code",
      "metadata": {
        "id": "QZfS_89Y5itO",
        "colab": {
          "base_uri": "https://localhost:8080/",
          "height": 505
        },
        "outputId": "5988c4c7-1585-488f-a087-45f5eb785471"
      },
      "source": [
        "corr = train.corr()\n",
        "f, ax = plt.subplots(figsize=(20, 8))\n",
        "cmap = sns.diverging_palette(220, 10, as_cmap=True)\n",
        "sns.heatmap(corr,linewidths=.5, annot= True)"
      ],
      "execution_count": null,
      "outputs": [
        {
          "output_type": "execute_result",
          "data": {
            "text/plain": [
              "<matplotlib.axes._subplots.AxesSubplot at 0x7f853f38afd0>"
            ]
          },
          "metadata": {
            "tags": []
          },
          "execution_count": 197
        },
        {
          "output_type": "display_data",
          "data": {
            "image/png": "[encoded data removed]",
            "text/plain": [
              "<Figure size 1440x576 with 2 Axes>"
            ]
          },
          "metadata": {
            "tags": []
          }
        }
      ]
    },
    {
      "cell_type": "markdown",
      "metadata": {
        "id": "f6Qbewz_6OiJ"
      },
      "source": [
        "Note that this table only shows the correlation between features of data type int, so it is necessary to enumerate the columns of object type in order to check for their correlation between the target column(Income)."
      ]
    },
    {
      "cell_type": "markdown",
      "metadata": {
        "id": "7f2vC-9QrtGB"
      },
      "source": [
        "Transform the values of the income class to 0 and 1 so that 0 represent income <=50k and 1 for income >50k"
      ]
    },
    {
      "cell_type": "code",
      "metadata": {
        "id": "BVyptAuECib6",
        "colab": {
          "base_uri": "https://localhost:8080/",
          "height": 280
        },
        "outputId": "510ab677-353a-44d2-8a6b-689317023849"
      },
      "source": [
        "fig, ax = plt.subplots()\n",
        "train['income'].value_counts().plot(ax=ax, kind='bar')"
      ],
      "execution_count": null,
      "outputs": [
        {
          "output_type": "execute_result",
          "data": {
            "text/plain": [
              "<matplotlib.axes._subplots.AxesSubplot at 0x7f853c41cda0>"
            ]
          },
          "metadata": {
            "tags": []
          },
          "execution_count": 198
        },
        {
          "output_type": "display_data",
          "data": {
            "image/png": "[encoded data removed]",
            "text/plain": [
              "<Figure size 432x288 with 1 Axes>"
            ]
          },
          "metadata": {
            "tags": []
          }
        }
      ]
    },
    {
      "cell_type": "markdown",
      "metadata": {
        "id": "2qfwI8nF0VWh"
      },
      "source": [
        "**Data Cleaning**"
      ]
    },
    {
      "cell_type": "markdown",
      "metadata": {
        "id": "ewxnGUpZ0bic"
      },
      "source": [
        "**1-Age**\n"
      ]
    },
    {
      "cell_type": "code",
      "metadata": {
        "id": "gNHkuFGQ0hJT",
        "colab": {
          "base_uri": "https://localhost:8080/"
        },
        "outputId": "40caf350-5329-4399-90db-1a3da7c739c0"
      },
      "source": [
        "train['age'].unique()"
      ],
      "execution_count": null,
      "outputs": [
        {
          "output_type": "execute_result",
          "data": {
            "text/plain": [
              "array([90, 82, 66, 54, 41, 34, 38, 74, 68, 45, 52, 32, 51, 46, 57, 22, 37,\n",
              "       29, 61, 21, 33, 49, 23, 59, 60, 63, 53, 44, 43, 71, 48, 73, 67, 40,\n",
              "       50, 42, 39, 55, 47, 31, 58, 62, 36, 72, 78, 83, 26, 70, 27, 35, 81,\n",
              "       65, 25, 28, 56, 69, 20, 30, 24, 64, 75, 19, 77, 80, 18, 17, 76, 79,\n",
              "       88, 84, 85, 86, 87])"
            ]
          },
          "metadata": {
            "tags": []
          },
          "execution_count": 199
        }
      ]
    },
    {
      "cell_type": "code",
      "metadata": {
        "id": "InGH_XYR00vo",
        "colab": {
          "base_uri": "https://localhost:8080/"
        },
        "outputId": "aca4c904-fafb-418e-9fd4-fb3e7c3e909f"
      },
      "source": [
        "print('min value for age is: ',train['age'].min(), ',while the max value is: ', train['age'].max())"
      ],
      "execution_count": null,
      "outputs": [
        {
          "output_type": "stream",
          "text": [
            "min value for age is:  17 ,while the max value is:  90\n"
          ],
          "name": "stdout"
        }
      ]
    },
    {
      "cell_type": "code",
      "metadata": {
        "id": "c3zppN7eQZNr",
        "colab": {
          "base_uri": "https://localhost:8080/"
        },
        "outputId": "6e4988e2-7f79-482e-a8d8-108cf98f5f5e"
      },
      "source": [
        "train.isnull().sum()\n"
      ],
      "execution_count": null,
      "outputs": [
        {
          "output_type": "execute_result",
          "data": {
            "text/plain": [
              "age                  0\n",
              "workclass         1836\n",
              "fnlwgt               0\n",
              "education            0\n",
              "education.num        0\n",
              "marital.status       0\n",
              "occupation        1843\n",
              "relationship         0\n",
              "race                 0\n",
              "sex                  0\n",
              "capital.gain         0\n",
              "capital.loss         0\n",
              "hours.per.week       0\n",
              "native.country     583\n",
              "income               0\n",
              "dtype: int64"
            ]
          },
          "metadata": {
            "tags": []
          },
          "execution_count": 201
        }
      ]
    },
    {
      "cell_type": "markdown",
      "metadata": {
        "id": "6edQBG2R5Mhu"
      },
      "source": [
        "Let's see if we can divide the ages into age groups and deduce something from the data. "
      ]
    },
    {
      "cell_type": "code",
      "metadata": {
        "id": "EQaSF77X1zaw"
      },
      "source": [
        "bins = [ 17, 25, 35, 50, 65, np.inf]\n",
        "names = ['17-25', '25-35', '35-50', '50-65', '65+']\n",
        "train['AgeRange'] = pd.cut(train['age'], bins, labels=names)\n",
        "NumberedAgeCategories = {'17-25':0 , '25-35':1, '35-50':2, '50-65':3,'65+':4}\n",
        "train['AgeRange']=train['AgeRange'].map(NumberedAgeCategories)  \n",
        "train['AgeRange']=pd.to_numeric(train['AgeRange'])\n",
        "train['AgeRange'].fillna(0,inplace = True)\n"
      ],
      "execution_count": null,
      "outputs": []
    },
    {
      "cell_type": "code",
      "metadata": {
        "id": "zrteYxqNQGWm",
        "colab": {
          "base_uri": "https://localhost:8080/"
        },
        "outputId": "f5d43634-1e80-4a6f-c5b5-c6859157f2c2"
      },
      "source": [
        "corr = train.corr()\n",
        "print(\"Correlation between the new feature' Age Range' is \"+\"{:.2f}\".format(corr['income']['AgeRange']), ', while correlation between income and age is '+\"{:.2f}\".format(corr['income']['age']))"
      ],
      "execution_count": null,
      "outputs": [
        {
          "output_type": "stream",
          "text": [
            "Correlation between the new feature' Age Range' is 0.25 , while correlation between income and age is 0.23\n"
          ],
          "name": "stdout"
        }
      ]
    },
    {
      "cell_type": "markdown",
      "metadata": {
        "id": "1XW_QqvNSYYR"
      },
      "source": [
        "It seems that AgeRange is doing slightly better than the age feature. "
      ]
    },
    {
      "cell_type": "code",
      "metadata": {
        "id": "Qhnzxi7d4TQy",
        "colab": {
          "base_uri": "https://localhost:8080/",
          "height": 289
        },
        "outputId": "f4ad7d74-d2aa-4130-817b-575261c08b7b"
      },
      "source": [
        "fig, ax = plt.subplots()\n",
        "train['AgeRange'].value_counts().plot(ax=ax, kind='bar')"
      ],
      "execution_count": null,
      "outputs": [
        {
          "output_type": "execute_result",
          "data": {
            "text/plain": [
              "<matplotlib.axes._subplots.AxesSubplot at 0x7f853c51c080>"
            ]
          },
          "metadata": {
            "tags": []
          },
          "execution_count": 204
        },
        {
          "output_type": "display_data",
          "data": {
            "image/png": "[encoded data removed]",
            "text/plain": [
              "<Figure size 432x288 with 1 Axes>"
            ]
          },
          "metadata": {
            "tags": []
          }
        }
      ]
    },
    {
      "cell_type": "markdown",
      "metadata": {
        "id": "c9GGBwF94qpN"
      },
      "source": [
        "We can deduce from this plot that the most common age in this dataset is in category 3 which is between the age of 35 and 50, while the smallest category is 5 which belongs to people aged 65 and above. "
      ]
    },
    {
      "cell_type": "markdown",
      "metadata": {
        "id": "We40yZendMCx"
      },
      "source": [
        "**2- Workclass**"
      ]
    },
    {
      "cell_type": "code",
      "metadata": {
        "id": "IxX2444PdL5C",
        "colab": {
          "base_uri": "https://localhost:8080/"
        },
        "outputId": "6286e939-ff8e-488d-de53-1d2f13c3bc83"
      },
      "source": [
        "train['workclass'].value_counts() "
      ],
      "execution_count": null,
      "outputs": [
        {
          "output_type": "execute_result",
          "data": {
            "text/plain": [
              "Private             22696\n",
              "Self-emp-not-inc     2541\n",
              "Local-gov            2093\n",
              "State-gov            1298\n",
              "Self-emp-inc         1116\n",
              "Federal-gov           960\n",
              "Without-pay            14\n",
              "Never-worked            7\n",
              "Name: workclass, dtype: int64"
            ]
          },
          "metadata": {
            "tags": []
          },
          "execution_count": 205
        }
      ]
    },
    {
      "cell_type": "markdown",
      "metadata": {
        "id": "PMmdaf6QJ5c-"
      },
      "source": [
        "Checking for the percentage of missing data for this feature:"
      ]
    },
    {
      "cell_type": "code",
      "metadata": {
        "id": "jH18q7XyDOyh",
        "colab": {
          "base_uri": "https://localhost:8080/"
        },
        "outputId": "da2cdc50-1c7b-44a2-833a-769be90fe73e"
      },
      "source": [
        "nullValues= train['workclass'].isnull().sum()\n",
        "total= train.shape[0]\n",
        "print('Percentage of null values is '+\"{:.2f}\".format(nullValues/total*100)+'%')"
      ],
      "execution_count": null,
      "outputs": [
        {
          "output_type": "stream",
          "text": [
            "Percentage of null values is 5.64%\n"
          ],
          "name": "stdout"
        }
      ]
    },
    {
      "cell_type": "markdown",
      "metadata": {
        "id": "0ao8SYfDKC7c"
      },
      "source": [
        "The percentage can be considered significant since it above 5% so it might be safer to turn the cells with null values into a separate new category. "
      ]
    },
    {
      "cell_type": "markdown",
      "metadata": {
        "id": "LPjCqgk4Kmil"
      },
      "source": [
        "Here is a representation to get an idea about the frequency of each working class: "
      ]
    },
    {
      "cell_type": "code",
      "metadata": {
        "id": "Lfpkfkz9CrPD",
        "colab": {
          "base_uri": "https://localhost:8080/",
          "height": 356
        },
        "outputId": "4014fa7e-1acc-42a9-e8e0-aa73a89bd90d"
      },
      "source": [
        "fig, ax = plt.subplots()\n",
        "train['workclass'].value_counts().plot(ax=ax, kind='bar')"
      ],
      "execution_count": null,
      "outputs": [
        {
          "output_type": "execute_result",
          "data": {
            "text/plain": [
              "<matplotlib.axes._subplots.AxesSubplot at 0x7f853b2d9080>"
            ]
          },
          "metadata": {
            "tags": []
          },
          "execution_count": 207
        },
        {
          "output_type": "display_data",
          "data": {
            "image/png": "[encoded data removed]",
            "text/plain": [
              "<Figure size 432x288 with 1 Axes>"
            ]
          },
          "metadata": {
            "tags": []
          }
        }
      ]
    },
    {
      "cell_type": "markdown",
      "metadata": {
        "id": "M_H3e_QPKxfx"
      },
      "source": [
        "Encoding object types is a necessary step for modelling which we will go through later: "
      ]
    },
    {
      "cell_type": "code",
      "metadata": {
        "id": "7Wx69bnCJWST"
      },
      "source": [
        "train['workclass']=train['workclass'].replace(np.nan, 0)"
      ],
      "execution_count": null,
      "outputs": []
    },
    {
      "cell_type": "code",
      "metadata": {
        "id": "Kfc7qgz_9r7j",
        "colab": {
          "base_uri": "https://localhost:8080/",
          "height": 399
        },
        "outputId": "e8c70b47-8af4-440f-bc4f-aa27919f39bb"
      },
      "source": [
        "train"
      ],
      "execution_count": null,
      "outputs": [
        {
          "output_type": "execute_result",
          "data": {
            "text/html": [
              "<div>\n",
              "<style scoped>\n",
              "    .dataframe tbody tr th:only-of-type {\n",
              "        vertical-align: middle;\n",
              "    }\n",
              "\n",
              "    .dataframe tbody tr th {\n",
              "        vertical-align: top;\n",
              "    }\n",
              "\n",
              "    .dataframe thead th {\n",
              "        text-align: right;\n",
              "    }\n",
              "</style>\n",
              "<table border=\"1\" class=\"dataframe\">\n",
              "  <thead>\n",
              "    <tr style=\"text-align: right;\">\n",
              "      <th></th>\n",
              "      <th>age</th>\n",
              "      <th>workclass</th>\n",
              "      <th>fnlwgt</th>\n",
              "      <th>education</th>\n",
              "      <th>education.num</th>\n",
              "      <th>marital.status</th>\n",
              "      <th>occupation</th>\n",
              "      <th>relationship</th>\n",
              "      <th>race</th>\n",
              "      <th>sex</th>\n",
              "      <th>capital.gain</th>\n",
              "      <th>capital.loss</th>\n",
              "      <th>hours.per.week</th>\n",
              "      <th>native.country</th>\n",
              "      <th>income</th>\n",
              "      <th>AgeRange</th>\n",
              "    </tr>\n",
              "  </thead>\n",
              "  <tbody>\n",
              "    <tr>\n",
              "      <th>0</th>\n",
              "      <td>90</td>\n",
              "      <td>0</td>\n",
              "      <td>77053</td>\n",
              "      <td>HS-grad</td>\n",
              "      <td>9</td>\n",
              "      <td>Widowed</td>\n",
              "      <td>NaN</td>\n",
              "      <td>Not-in-family</td>\n",
              "      <td>White</td>\n",
              "      <td>Female</td>\n",
              "      <td>0</td>\n",
              "      <td>4356</td>\n",
              "      <td>40</td>\n",
              "      <td>United-States</td>\n",
              "      <td>0</td>\n",
              "      <td>4.0</td>\n",
              "    </tr>\n",
              "    <tr>\n",
              "      <th>1</th>\n",
              "      <td>82</td>\n",
              "      <td>Private</td>\n",
              "      <td>132870</td>\n",
              "      <td>HS-grad</td>\n",
              "      <td>9</td>\n",
              "      <td>Widowed</td>\n",
              "      <td>Exec-managerial</td>\n",
              "      <td>Not-in-family</td>\n",
              "      <td>White</td>\n",
              "      <td>Female</td>\n",
              "      <td>0</td>\n",
              "      <td>4356</td>\n",
              "      <td>18</td>\n",
              "      <td>United-States</td>\n",
              "      <td>0</td>\n",
              "      <td>4.0</td>\n",
              "    </tr>\n",
              "    <tr>\n",
              "      <th>2</th>\n",
              "      <td>66</td>\n",
              "      <td>0</td>\n",
              "      <td>186061</td>\n",
              "      <td>Some-college</td>\n",
              "      <td>10</td>\n",
              "      <td>Widowed</td>\n",
              "      <td>NaN</td>\n",
              "      <td>Unmarried</td>\n",
              "      <td>Black</td>\n",
              "      <td>Female</td>\n",
              "      <td>0</td>\n",
              "      <td>4356</td>\n",
              "      <td>40</td>\n",
              "      <td>United-States</td>\n",
              "      <td>0</td>\n",
              "      <td>4.0</td>\n",
              "    </tr>\n",
              "    <tr>\n",
              "      <th>3</th>\n",
              "      <td>54</td>\n",
              "      <td>Private</td>\n",
              "      <td>140359</td>\n",
              "      <td>7th-8th</td>\n",
              "      <td>4</td>\n",
              "      <td>Divorced</td>\n",
              "      <td>Machine-op-inspct</td>\n",
              "      <td>Unmarried</td>\n",
              "      <td>White</td>\n",
              "      <td>Female</td>\n",
              "      <td>0</td>\n",
              "      <td>3900</td>\n",
              "      <td>40</td>\n",
              "      <td>United-States</td>\n",
              "      <td>0</td>\n",
              "      <td>3.0</td>\n",
              "    </tr>\n",
              "    <tr>\n",
              "      <th>4</th>\n",
              "      <td>41</td>\n",
              "      <td>Private</td>\n",
              "      <td>264663</td>\n",
              "      <td>Some-college</td>\n",
              "      <td>10</td>\n",
              "      <td>Separated</td>\n",
              "      <td>Prof-specialty</td>\n",
              "      <td>Own-child</td>\n",
              "      <td>White</td>\n",
              "      <td>Female</td>\n",
              "      <td>0</td>\n",
              "      <td>3900</td>\n",
              "      <td>40</td>\n",
              "      <td>United-States</td>\n",
              "      <td>0</td>\n",
              "      <td>2.0</td>\n",
              "    </tr>\n",
              "    <tr>\n",
              "      <th>...</th>\n",
              "      <td>...</td>\n",
              "      <td>...</td>\n",
              "      <td>...</td>\n",
              "      <td>...</td>\n",
              "      <td>...</td>\n",
              "      <td>...</td>\n",
              "      <td>...</td>\n",
              "      <td>...</td>\n",
              "      <td>...</td>\n",
              "      <td>...</td>\n",
              "      <td>...</td>\n",
              "      <td>...</td>\n",
              "      <td>...</td>\n",
              "      <td>...</td>\n",
              "      <td>...</td>\n",
              "      <td>...</td>\n",
              "    </tr>\n",
              "    <tr>\n",
              "      <th>32556</th>\n",
              "      <td>22</td>\n",
              "      <td>Private</td>\n",
              "      <td>310152</td>\n",
              "      <td>Some-college</td>\n",
              "      <td>10</td>\n",
              "      <td>Never-married</td>\n",
              "      <td>Protective-serv</td>\n",
              "      <td>Not-in-family</td>\n",
              "      <td>White</td>\n",
              "      <td>Male</td>\n",
              "      <td>0</td>\n",
              "      <td>0</td>\n",
              "      <td>40</td>\n",
              "      <td>United-States</td>\n",
              "      <td>0</td>\n",
              "      <td>0.0</td>\n",
              "    </tr>\n",
              "    <tr>\n",
              "      <th>32557</th>\n",
              "      <td>27</td>\n",
              "      <td>Private</td>\n",
              "      <td>257302</td>\n",
              "      <td>Assoc-acdm</td>\n",
              "      <td>12</td>\n",
              "      <td>Married-civ-spouse</td>\n",
              "      <td>Tech-support</td>\n",
              "      <td>Wife</td>\n",
              "      <td>White</td>\n",
              "      <td>Female</td>\n",
              "      <td>0</td>\n",
              "      <td>0</td>\n",
              "      <td>38</td>\n",
              "      <td>United-States</td>\n",
              "      <td>0</td>\n",
              "      <td>1.0</td>\n",
              "    </tr>\n",
              "    <tr>\n",
              "      <th>32558</th>\n",
              "      <td>40</td>\n",
              "      <td>Private</td>\n",
              "      <td>154374</td>\n",
              "      <td>HS-grad</td>\n",
              "      <td>9</td>\n",
              "      <td>Married-civ-spouse</td>\n",
              "      <td>Machine-op-inspct</td>\n",
              "      <td>Husband</td>\n",
              "      <td>White</td>\n",
              "      <td>Male</td>\n",
              "      <td>0</td>\n",
              "      <td>0</td>\n",
              "      <td>40</td>\n",
              "      <td>United-States</td>\n",
              "      <td>1</td>\n",
              "      <td>2.0</td>\n",
              "    </tr>\n",
              "    <tr>\n",
              "      <th>32559</th>\n",
              "      <td>58</td>\n",
              "      <td>Private</td>\n",
              "      <td>151910</td>\n",
              "      <td>HS-grad</td>\n",
              "      <td>9</td>\n",
              "      <td>Widowed</td>\n",
              "      <td>Adm-clerical</td>\n",
              "      <td>Unmarried</td>\n",
              "      <td>White</td>\n",
              "      <td>Female</td>\n",
              "      <td>0</td>\n",
              "      <td>0</td>\n",
              "      <td>40</td>\n",
              "      <td>United-States</td>\n",
              "      <td>0</td>\n",
              "      <td>3.0</td>\n",
              "    </tr>\n",
              "    <tr>\n",
              "      <th>32560</th>\n",
              "      <td>22</td>\n",
              "      <td>Private</td>\n",
              "      <td>201490</td>\n",
              "      <td>HS-grad</td>\n",
              "      <td>9</td>\n",
              "      <td>Never-married</td>\n",
              "      <td>Adm-clerical</td>\n",
              "      <td>Own-child</td>\n",
              "      <td>White</td>\n",
              "      <td>Male</td>\n",
              "      <td>0</td>\n",
              "      <td>0</td>\n",
              "      <td>20</td>\n",
              "      <td>United-States</td>\n",
              "      <td>0</td>\n",
              "      <td>0.0</td>\n",
              "    </tr>\n",
              "  </tbody>\n",
              "</table>\n",
              "<p>32561 rows × 16 columns</p>\n",
              "</div>"
            ],
            "text/plain": [
              "       age workclass  fnlwgt  ... native.country  income AgeRange\n",
              "0       90         0   77053  ...  United-States       0      4.0\n",
              "1       82   Private  132870  ...  United-States       0      4.0\n",
              "2       66         0  186061  ...  United-States       0      4.0\n",
              "3       54   Private  140359  ...  United-States       0      3.0\n",
              "4       41   Private  264663  ...  United-States       0      2.0\n",
              "...    ...       ...     ...  ...            ...     ...      ...\n",
              "32556   22   Private  310152  ...  United-States       0      0.0\n",
              "32557   27   Private  257302  ...  United-States       0      1.0\n",
              "32558   40   Private  154374  ...  United-States       1      2.0\n",
              "32559   58   Private  151910  ...  United-States       0      3.0\n",
              "32560   22   Private  201490  ...  United-States       0      0.0\n",
              "\n",
              "[32561 rows x 16 columns]"
            ]
          },
          "metadata": {
            "tags": []
          },
          "execution_count": 209
        }
      ]
    },
    {
      "cell_type": "code",
      "metadata": {
        "id": "LUv-ADIGGvxJ"
      },
      "source": [
        "train['workclass']= train.workclass.map({\n",
        "0                 :0,             \n",
        "'Private'         :1,\n",
        "'Self-emp-not-inc':2,\n",
        "'Local-gov'       :3,\n",
        "'State-gov'       :4,\n",
        "'Self-emp-inc'    :5,\n",
        "'Federal-gov'     :6,\n",
        "'Without-pay'     :7,\n",
        "'Never-worked'    :8\n",
        "})\n"
      ],
      "execution_count": null,
      "outputs": []
    },
    {
      "cell_type": "markdown",
      "metadata": {
        "id": "o7zjlmtLK-Cm"
      },
      "source": [
        "**3- fnlwgt**\n",
        "\n",
        "\n",
        "> final weight : number of units in the target population that the responding unit represents."
      ]
    },
    {
      "cell_type": "code",
      "metadata": {
        "id": "QkwTp66ELtDx",
        "colab": {
          "base_uri": "https://localhost:8080/"
        },
        "outputId": "7d09a330-f75c-432d-fb79-ac8f83c82eb6"
      },
      "source": [
        "train['fnlwgt'].unique()"
      ],
      "execution_count": null,
      "outputs": [
        {
          "output_type": "execute_result",
          "data": {
            "text/plain": [
              "array([ 77053, 132870, 186061, ...,  34066,  84661, 257302])"
            ]
          },
          "metadata": {
            "tags": []
          },
          "execution_count": 211
        }
      ]
    },
    {
      "cell_type": "code",
      "metadata": {
        "id": "pNex40sqMdic",
        "colab": {
          "base_uri": "https://localhost:8080/"
        },
        "outputId": "18cb680a-8de1-4997-dfd4-fa96e27fb608"
      },
      "source": [
        "train['fnlwgt'].min()"
      ],
      "execution_count": null,
      "outputs": [
        {
          "output_type": "execute_result",
          "data": {
            "text/plain": [
              "12285"
            ]
          },
          "metadata": {
            "tags": []
          },
          "execution_count": 212
        }
      ]
    },
    {
      "cell_type": "code",
      "metadata": {
        "id": "NjHe6lrHMhmz",
        "colab": {
          "base_uri": "https://localhost:8080/"
        },
        "outputId": "c555efed-c174-45bf-e270-67d0bf9126f3"
      },
      "source": [
        "train['fnlwgt'].max()"
      ],
      "execution_count": null,
      "outputs": [
        {
          "output_type": "execute_result",
          "data": {
            "text/plain": [
              "1484705"
            ]
          },
          "metadata": {
            "tags": []
          },
          "execution_count": 213
        }
      ]
    },
    {
      "cell_type": "code",
      "metadata": {
        "id": "45lOg39gA-jf",
        "colab": {
          "base_uri": "https://localhost:8080/",
          "height": 325
        },
        "outputId": "60d07a7a-2719-4d20-d3b6-2bcd743151c4"
      },
      "source": [
        "plt.figure(figsize=(50,10))\n",
        "train.reset_index().plot(kind='scatter', x='index', y='fnlwgt')"
      ],
      "execution_count": null,
      "outputs": [
        {
          "output_type": "execute_result",
          "data": {
            "text/plain": [
              "<matplotlib.axes._subplots.AxesSubplot at 0x7f853b5c5748>"
            ]
          },
          "metadata": {
            "tags": []
          },
          "execution_count": 214
        },
        {
          "output_type": "display_data",
          "data": {
            "text/plain": [
              "<Figure size 3600x720 with 0 Axes>"
            ]
          },
          "metadata": {
            "tags": []
          }
        },
        {
          "output_type": "display_data",
          "data": {
            "image/png": "[encoded data removed]",
            "text/plain": [
              "<Figure size 432x288 with 1 Axes>"
            ]
          },
          "metadata": {
            "tags": []
          }
        }
      ]
    },
    {
      "cell_type": "code",
      "metadata": {
        "id": "TNHv1103M3_s",
        "colab": {
          "base_uri": "https://localhost:8080/",
          "height": 294
        },
        "outputId": "541efbe0-e392-487a-f67e-788beb4c61c9"
      },
      "source": [
        "fig = train.boxplot(column='fnlwgt')\n",
        "fig.set_title('')\n",
        "fig.set_ylabel('Final Weight')"
      ],
      "execution_count": null,
      "outputs": [
        {
          "output_type": "execute_result",
          "data": {
            "text/plain": [
              "Text(0, 0.5, 'Final Weight')"
            ]
          },
          "metadata": {
            "tags": []
          },
          "execution_count": 215
        },
        {
          "output_type": "display_data",
          "data": {
            "image/png": "[encoded data removed]",
            "text/plain": [
              "<Figure size 432x288 with 1 Axes>"
            ]
          },
          "metadata": {
            "tags": []
          }
        }
      ]
    },
    {
      "cell_type": "markdown",
      "metadata": {
        "id": "X5_sPVHaB4Dm"
      },
      "source": [
        "remove outliers in the the data because they only account for 2% of the whole dataset:"
      ]
    },
    {
      "cell_type": "code",
      "metadata": {
        "id": "qi25BN95U-XP"
      },
      "source": [
        "train.drop(train[train['fnlwgt']>0.42*1e6].index, inplace = True)"
      ],
      "execution_count": null,
      "outputs": []
    },
    {
      "cell_type": "markdown",
      "metadata": {
        "id": "4EN6M7PaP55c"
      },
      "source": [
        "**4- Education & Education.num**"
      ]
    },
    {
      "cell_type": "markdown",
      "metadata": {
        "id": "B4Wd1GkcRjZZ"
      },
      "source": [
        "There are no null vallues in this column so we can start analysing it immdeiately."
      ]
    },
    {
      "cell_type": "code",
      "metadata": {
        "id": "Ozf0GC_8P_86",
        "colab": {
          "base_uri": "https://localhost:8080/"
        },
        "outputId": "c444ef62-f9fc-4113-bafe-c5dceb862ef6"
      },
      "source": [
        "train['education'].value_counts()"
      ],
      "execution_count": null,
      "outputs": [
        {
          "output_type": "execute_result",
          "data": {
            "text/plain": [
              "HS-grad         10196\n",
              "Some-college     7086\n",
              "Bachelors        5209\n",
              "Masters          1680\n",
              "Assoc-voc        1356\n",
              "11th             1139\n",
              "Assoc-acdm       1039\n",
              "10th              895\n",
              "7th-8th           627\n",
              "Prof-school       570\n",
              "9th               489\n",
              "12th              414\n",
              "Doctorate         399\n",
              "5th-6th           313\n",
              "1st-4th           155\n",
              "Preschool          47\n",
              "Name: education, dtype: int64"
            ]
          },
          "metadata": {
            "tags": []
          },
          "execution_count": 217
        }
      ]
    },
    {
      "cell_type": "markdown",
      "metadata": {
        "id": "yKJyUzw18GRF"
      },
      "source": [
        "Education.num : the highest level of education achieved in numerical form."
      ]
    },
    {
      "cell_type": "code",
      "metadata": {
        "id": "W-HUEvuUsjK_"
      },
      "source": [
        "educationKeyValues = dict(zip(train['education'], train['education.num']))"
      ],
      "execution_count": null,
      "outputs": []
    },
    {
      "cell_type": "code",
      "metadata": {
        "id": "U_pjAzFo8xWQ"
      },
      "source": [
        "educationKeyValues = sorted(educationKeyValues.items(), key=lambda x: x[1], reverse=False)"
      ],
      "execution_count": null,
      "outputs": []
    },
    {
      "cell_type": "code",
      "metadata": {
        "id": "DcOxQzui82O8",
        "colab": {
          "base_uri": "https://localhost:8080/"
        },
        "outputId": "defc63e7-497f-450c-bba8-dbb59367ce47"
      },
      "source": [
        "educationKeyValues"
      ],
      "execution_count": null,
      "outputs": [
        {
          "output_type": "execute_result",
          "data": {
            "text/plain": [
              "[('Preschool', 1),\n",
              " ('1st-4th', 2),\n",
              " ('5th-6th', 3),\n",
              " ('7th-8th', 4),\n",
              " ('9th', 5),\n",
              " ('10th', 6),\n",
              " ('11th', 7),\n",
              " ('12th', 8),\n",
              " ('HS-grad', 9),\n",
              " ('Some-college', 10),\n",
              " ('Assoc-voc', 11),\n",
              " ('Assoc-acdm', 12),\n",
              " ('Bachelors', 13),\n",
              " ('Masters', 14),\n",
              " ('Prof-school', 15),\n",
              " ('Doctorate', 16)]"
            ]
          },
          "metadata": {
            "tags": []
          },
          "execution_count": 220
        }
      ]
    },
    {
      "cell_type": "markdown",
      "metadata": {
        "id": "o_plygbIv6UU"
      },
      "source": [
        "Order of education levels based on education.num: \n",
        "\n",
        "Preschool < 1st-4th < 5th-6th < 7th-8th < 9th < 10th < 11th < 12th < HS-grad < Prof-school < Assoc-acdm < Assoc-voc < Some-college < Bachelors < Masters < Doctorate"
      ]
    },
    {
      "cell_type": "markdown",
      "metadata": {
        "id": "ZRDYrTJaRSN6"
      },
      "source": [
        "Here's the same type of plot used previously just to get an idea about the distribution of categroies: "
      ]
    },
    {
      "cell_type": "code",
      "metadata": {
        "id": "MD41Rp57RJRO",
        "colab": {
          "base_uri": "https://localhost:8080/",
          "height": 340
        },
        "outputId": "39a31418-48f1-46f4-c624-8031c03636fd"
      },
      "source": [
        "fig, ax = plt.subplots()\n",
        "train['education'].value_counts().plot(ax=ax, kind='bar')"
      ],
      "execution_count": null,
      "outputs": [
        {
          "output_type": "execute_result",
          "data": {
            "text/plain": [
              "<matplotlib.axes._subplots.AxesSubplot at 0x7f853c1e1c18>"
            ]
          },
          "metadata": {
            "tags": []
          },
          "execution_count": 221
        },
        {
          "output_type": "display_data",
          "data": {
            "image/png": "[encoded data removed]",
            "text/plain": [
              "<Figure size 432x288 with 1 Axes>"
            ]
          },
          "metadata": {
            "tags": []
          }
        }
      ]
    },
    {
      "cell_type": "markdown",
      "metadata": {
        "id": "7f931XCa1ybt"
      },
      "source": [
        "It is clear that most of the individuals in this dataset were atleast High school graduates. "
      ]
    },
    {
      "cell_type": "code",
      "metadata": {
        "id": "eOxPgzHgypTk",
        "colab": {
          "base_uri": "https://localhost:8080/",
          "height": 624
        },
        "outputId": "5d7ed878-1050-47c1-a6f6-d9163ef750ae"
      },
      "source": [
        "plt.figure(figsize=(20,10))\n",
        "sns.countplot(x=\"education\", hue=\"income\", data=train)"
      ],
      "execution_count": null,
      "outputs": [
        {
          "output_type": "execute_result",
          "data": {
            "text/plain": [
              "<matplotlib.axes._subplots.AxesSubplot at 0x7f853ead98d0>"
            ]
          },
          "metadata": {
            "tags": []
          },
          "execution_count": 222
        },
        {
          "output_type": "display_data",
          "data": {
            "image/png": "[encoded data removed]",
            "text/plain": [
              "<Figure size 1440x720 with 1 Axes>"
            ]
          },
          "metadata": {
            "tags": []
          }
        }
      ]
    },
    {
      "cell_type": "markdown",
      "metadata": {
        "id": "3rEgX5zh247n"
      },
      "source": [
        "We can deduce from this graph that most people with an education level below Masters, earn less than 50k, with the exception of Prof-school. \n",
        "A larger number of those who have Masters/ phd earn more than 50k."
      ]
    },
    {
      "cell_type": "markdown",
      "metadata": {
        "id": "KXgWWyqyRbA1"
      },
      "source": [
        "Since education.num already maps education, we can remove the education column and rely on this dictionary d to provide us with the key of the corresponding value if we needed to restore the education level later : "
      ]
    },
    {
      "cell_type": "code",
      "metadata": {
        "id": "NAnUDFg97E6P"
      },
      "source": [
        "train.drop('education',axis='columns', inplace=True)"
      ],
      "execution_count": null,
      "outputs": []
    },
    {
      "cell_type": "markdown",
      "metadata": {
        "id": "0VyTMF4jS7RV"
      },
      "source": [
        "**5-martial-status**\n",
        "\n",
        "Married-civ-spouse    : spouce is civilian\n",
        "\n",
        "Never-married         : Single people never married\n",
        "\n",
        "Divorced              : were married and legellay   seperated     \n",
        "\n",
        "Separated             : similar to divorced but not legally     \n",
        "\n",
        "Widowed               : husband or wife died     \n",
        "\n",
        "Married-spouse-absent : married people living-apart    \n",
        "\n",
        "Married-AF-spouse     : Spouse works in the air force    \n",
        "\n",
        "\n",
        "\n"
      ]
    },
    {
      "cell_type": "code",
      "metadata": {
        "id": "-qqaXZEOS-jH",
        "colab": {
          "base_uri": "https://localhost:8080/"
        },
        "outputId": "b027a9bf-e279-4c41-8e82-12e37e5d346a"
      },
      "source": [
        "print((train['marital.status'].value_counts()))\n",
        "\n",
        "print('Total categories',len(train['marital.status'].value_counts()))\n",
        "\n"
      ],
      "execution_count": null,
      "outputs": [
        {
          "output_type": "stream",
          "text": [
            "Married-civ-spouse       14564\n",
            "Never-married            10323\n",
            "Divorced                  4333\n",
            "Separated                  989\n",
            "Widowed                    978\n",
            "Married-spouse-absent      406\n",
            "Married-AF-spouse           21\n",
            "Name: marital.status, dtype: int64\n",
            "Total categories 7\n"
          ],
          "name": "stdout"
        }
      ]
    },
    {
      "cell_type": "markdown",
      "metadata": {
        "id": "Bxru45sNctDv"
      },
      "source": [
        "From the bar-plot distribution and meaning of each category we we can divide the categories into 3 categories as the other 4 categories dont have alot of data and can be sub-categories of the other 3\n",
        "\n",
        "Married:Married-civ-spouse,Married-AF-spouse \n",
        "\n",
        "Not_married: Never-married,Married-spouse-absent \n",
        "\n",
        "Seperated:Divorced,separated,Widowed\n",
        "\n"
      ]
    },
    {
      "cell_type": "code",
      "metadata": {
        "id": "vvS9px34Wr0H",
        "colab": {
          "base_uri": "https://localhost:8080/",
          "height": 624
        },
        "outputId": "a0c2ff3f-2a5c-4707-c594-6d04b252461b"
      },
      "source": [
        "plt.figure(figsize=(15,10))\n",
        "sns.countplot(data = train, x ='marital.status',hue='income')"
      ],
      "execution_count": null,
      "outputs": [
        {
          "output_type": "execute_result",
          "data": {
            "text/plain": [
              "<matplotlib.axes._subplots.AxesSubplot at 0x7f853ead9fd0>"
            ]
          },
          "metadata": {
            "tags": []
          },
          "execution_count": 225
        },
        {
          "output_type": "display_data",
          "data": {
            "image/png": "[encoded data removed]",
            "text/plain": [
              "<Figure size 1080x720 with 1 Axes>"
            ]
          },
          "metadata": {
            "tags": []
          }
        }
      ]
    },
    {
      "cell_type": "code",
      "metadata": {
        "id": "zqzfYDXnjlaD",
        "colab": {
          "base_uri": "https://localhost:8080/",
          "height": 624
        },
        "outputId": "ac6baeff-02ba-4b44-9851-e1f6860aba7e"
      },
      "source": [
        "train['marital.status'].replace(\n",
        "    {\n",
        "      'Married-civ-spouse':'Married',\n",
        "      'Never-married':'Not_married',\n",
        "      'Divorced':'Seperated',\n",
        "      'Separated':'Seperated',\n",
        "      'Widowed':'Seperated',\n",
        "      'Married-spouse-absent':'Not_married',\n",
        "      'Married-AF-spouse':'Married'\n",
        "    },\n",
        "    inplace=True\n",
        ")\n",
        "plt.figure(figsize=(15,10))\n",
        "sns.countplot(data = train, x ='marital.status',hue='income')"
      ],
      "execution_count": null,
      "outputs": [
        {
          "output_type": "execute_result",
          "data": {
            "text/plain": [
              "<matplotlib.axes._subplots.AxesSubplot at 0x7f853b633dd8>"
            ]
          },
          "metadata": {
            "tags": []
          },
          "execution_count": 226
        },
        {
          "output_type": "display_data",
          "data": {
            "image/png": "[encoded data removed]",
            "text/plain": [
              "<Figure size 1080x720 with 1 Axes>"
            ]
          },
          "metadata": {
            "tags": []
          }
        }
      ]
    },
    {
      "cell_type": "code",
      "metadata": {
        "id": "1GF3PyAIx73A"
      },
      "source": [
        "\n",
        "train['marital.status'] = LabelEncoder().fit_transform(train['marital.status'])\n"
      ],
      "execution_count": null,
      "outputs": []
    },
    {
      "cell_type": "markdown",
      "metadata": {
        "id": "ntaZU7L3vq27"
      },
      "source": [
        "**6-Occupation**"
      ]
    },
    {
      "cell_type": "code",
      "metadata": {
        "id": "rPY2641vxKH1",
        "colab": {
          "base_uri": "https://localhost:8080/"
        },
        "outputId": "cff83a92-ff5b-40cc-a9e3-387f7e9d7df1"
      },
      "source": [
        "print((train['occupation'].value_counts()))\n",
        "\n",
        "print('Total categories',len(train['occupation'].value_counts()))\n",
        "\n",
        "print('Null values:',train['occupation'].isnull().sum())\n",
        "\n",
        "\n"
      ],
      "execution_count": null,
      "outputs": [
        {
          "output_type": "stream",
          "text": [
            "Prof-specialty       4044\n",
            "Craft-repair         3976\n",
            "Exec-managerial      3957\n",
            "Adm-clerical         3669\n",
            "Sales                3545\n",
            "Other-service        3193\n",
            "Machine-op-inspct    1949\n",
            "Transport-moving     1544\n",
            "Handlers-cleaners    1309\n",
            "Farming-fishing       961\n",
            "Tech-support          896\n",
            "Protective-serv       630\n",
            "Priv-house-serv       145\n",
            "Armed-Forces            9\n",
            "Name: occupation, dtype: int64\n",
            "Total categories 14\n",
            "Null values: 1787\n"
          ],
          "name": "stdout"
        }
      ]
    },
    {
      "cell_type": "code",
      "metadata": {
        "id": "NCFdndS771s3",
        "colab": {
          "base_uri": "https://localhost:8080/",
          "height": 194
        },
        "outputId": "10bd0578-b479-4df9-d890-6de962fd6e30"
      },
      "source": [
        "train['occupation']=train['occupation'].replace(np.nan,'NA')\n",
        "train['occupation']=train['occupation'].astype(str)\n",
        "train.head()\n",
        "\n"
      ],
      "execution_count": null,
      "outputs": [
        {
          "output_type": "execute_result",
          "data": {
            "text/html": [
              "<div>\n",
              "<style scoped>\n",
              "    .dataframe tbody tr th:only-of-type {\n",
              "        vertical-align: middle;\n",
              "    }\n",
              "\n",
              "    .dataframe tbody tr th {\n",
              "        vertical-align: top;\n",
              "    }\n",
              "\n",
              "    .dataframe thead th {\n",
              "        text-align: right;\n",
              "    }\n",
              "</style>\n",
              "<table border=\"1\" class=\"dataframe\">\n",
              "  <thead>\n",
              "    <tr style=\"text-align: right;\">\n",
              "      <th></th>\n",
              "      <th>age</th>\n",
              "      <th>workclass</th>\n",
              "      <th>fnlwgt</th>\n",
              "      <th>education.num</th>\n",
              "      <th>marital.status</th>\n",
              "      <th>occupation</th>\n",
              "      <th>relationship</th>\n",
              "      <th>race</th>\n",
              "      <th>sex</th>\n",
              "      <th>capital.gain</th>\n",
              "      <th>capital.loss</th>\n",
              "      <th>hours.per.week</th>\n",
              "      <th>native.country</th>\n",
              "      <th>income</th>\n",
              "      <th>AgeRange</th>\n",
              "    </tr>\n",
              "  </thead>\n",
              "  <tbody>\n",
              "    <tr>\n",
              "      <th>0</th>\n",
              "      <td>90</td>\n",
              "      <td>0</td>\n",
              "      <td>77053</td>\n",
              "      <td>9</td>\n",
              "      <td>2</td>\n",
              "      <td>NA</td>\n",
              "      <td>Not-in-family</td>\n",
              "      <td>White</td>\n",
              "      <td>Female</td>\n",
              "      <td>0</td>\n",
              "      <td>4356</td>\n",
              "      <td>40</td>\n",
              "      <td>United-States</td>\n",
              "      <td>0</td>\n",
              "      <td>4.0</td>\n",
              "    </tr>\n",
              "    <tr>\n",
              "      <th>1</th>\n",
              "      <td>82</td>\n",
              "      <td>1</td>\n",
              "      <td>132870</td>\n",
              "      <td>9</td>\n",
              "      <td>2</td>\n",
              "      <td>Exec-managerial</td>\n",
              "      <td>Not-in-family</td>\n",
              "      <td>White</td>\n",
              "      <td>Female</td>\n",
              "      <td>0</td>\n",
              "      <td>4356</td>\n",
              "      <td>18</td>\n",
              "      <td>United-States</td>\n",
              "      <td>0</td>\n",
              "      <td>4.0</td>\n",
              "    </tr>\n",
              "    <tr>\n",
              "      <th>2</th>\n",
              "      <td>66</td>\n",
              "      <td>0</td>\n",
              "      <td>186061</td>\n",
              "      <td>10</td>\n",
              "      <td>2</td>\n",
              "      <td>NA</td>\n",
              "      <td>Unmarried</td>\n",
              "      <td>Black</td>\n",
              "      <td>Female</td>\n",
              "      <td>0</td>\n",
              "      <td>4356</td>\n",
              "      <td>40</td>\n",
              "      <td>United-States</td>\n",
              "      <td>0</td>\n",
              "      <td>4.0</td>\n",
              "    </tr>\n",
              "    <tr>\n",
              "      <th>3</th>\n",
              "      <td>54</td>\n",
              "      <td>1</td>\n",
              "      <td>140359</td>\n",
              "      <td>4</td>\n",
              "      <td>2</td>\n",
              "      <td>Machine-op-inspct</td>\n",
              "      <td>Unmarried</td>\n",
              "      <td>White</td>\n",
              "      <td>Female</td>\n",
              "      <td>0</td>\n",
              "      <td>3900</td>\n",
              "      <td>40</td>\n",
              "      <td>United-States</td>\n",
              "      <td>0</td>\n",
              "      <td>3.0</td>\n",
              "    </tr>\n",
              "    <tr>\n",
              "      <th>4</th>\n",
              "      <td>41</td>\n",
              "      <td>1</td>\n",
              "      <td>264663</td>\n",
              "      <td>10</td>\n",
              "      <td>2</td>\n",
              "      <td>Prof-specialty</td>\n",
              "      <td>Own-child</td>\n",
              "      <td>White</td>\n",
              "      <td>Female</td>\n",
              "      <td>0</td>\n",
              "      <td>3900</td>\n",
              "      <td>40</td>\n",
              "      <td>United-States</td>\n",
              "      <td>0</td>\n",
              "      <td>2.0</td>\n",
              "    </tr>\n",
              "  </tbody>\n",
              "</table>\n",
              "</div>"
            ],
            "text/plain": [
              "   age  workclass  fnlwgt  ...  native.country  income AgeRange\n",
              "0   90          0   77053  ...   United-States       0      4.0\n",
              "1   82          1  132870  ...   United-States       0      4.0\n",
              "2   66          0  186061  ...   United-States       0      4.0\n",
              "3   54          1  140359  ...   United-States       0      3.0\n",
              "4   41          1  264663  ...   United-States       0      2.0\n",
              "\n",
              "[5 rows x 15 columns]"
            ]
          },
          "metadata": {
            "tags": []
          },
          "execution_count": 229
        }
      ]
    },
    {
      "cell_type": "markdown",
      "metadata": {
        "id": "R8SaP078B9H5"
      },
      "source": [
        "We can find out that the most who have income more than  50k are Exec-managment and proof-speciality"
      ]
    },
    {
      "cell_type": "code",
      "metadata": {
        "id": "GocHeMuDz624",
        "colab": {
          "base_uri": "https://localhost:8080/",
          "height": 624
        },
        "outputId": "247f7ef4-1f66-4c49-e4a6-a23db9644394"
      },
      "source": [
        "plt.figure(figsize=(25,10))\n",
        "\n",
        "sns.countplot(data = train, x ='occupation',hue='income')"
      ],
      "execution_count": null,
      "outputs": [
        {
          "output_type": "execute_result",
          "data": {
            "text/plain": [
              "<matplotlib.axes._subplots.AxesSubplot at 0x7f853da76e48>"
            ]
          },
          "metadata": {
            "tags": []
          },
          "execution_count": 230
        },
        {
          "output_type": "display_data",
          "data": {
            "image/png": "[encoded data removed]",
            "text/plain": [
              "<Figure size 1800x720 with 1 Axes>"
            ]
          },
          "metadata": {
            "tags": []
          }
        }
      ]
    },
    {
      "cell_type": "code",
      "metadata": {
        "id": "ASiD7ZIe_iRO",
        "colab": {
          "base_uri": "https://localhost:8080/",
          "height": 194
        },
        "outputId": "6b59684e-40f9-4cd4-eaf3-e6bfd599a957"
      },
      "source": [
        "train['occupation'] = LabelEncoder().fit_transform(train['occupation'])\n",
        "train.head()\n"
      ],
      "execution_count": null,
      "outputs": [
        {
          "output_type": "execute_result",
          "data": {
            "text/html": [
              "<div>\n",
              "<style scoped>\n",
              "    .dataframe tbody tr th:only-of-type {\n",
              "        vertical-align: middle;\n",
              "    }\n",
              "\n",
              "    .dataframe tbody tr th {\n",
              "        vertical-align: top;\n",
              "    }\n",
              "\n",
              "    .dataframe thead th {\n",
              "        text-align: right;\n",
              "    }\n",
              "</style>\n",
              "<table border=\"1\" class=\"dataframe\">\n",
              "  <thead>\n",
              "    <tr style=\"text-align: right;\">\n",
              "      <th></th>\n",
              "      <th>age</th>\n",
              "      <th>workclass</th>\n",
              "      <th>fnlwgt</th>\n",
              "      <th>education.num</th>\n",
              "      <th>marital.status</th>\n",
              "      <th>occupation</th>\n",
              "      <th>relationship</th>\n",
              "      <th>race</th>\n",
              "      <th>sex</th>\n",
              "      <th>capital.gain</th>\n",
              "      <th>capital.loss</th>\n",
              "      <th>hours.per.week</th>\n",
              "      <th>native.country</th>\n",
              "      <th>income</th>\n",
              "      <th>AgeRange</th>\n",
              "    </tr>\n",
              "  </thead>\n",
              "  <tbody>\n",
              "    <tr>\n",
              "      <th>0</th>\n",
              "      <td>90</td>\n",
              "      <td>0</td>\n",
              "      <td>77053</td>\n",
              "      <td>9</td>\n",
              "      <td>2</td>\n",
              "      <td>7</td>\n",
              "      <td>Not-in-family</td>\n",
              "      <td>White</td>\n",
              "      <td>Female</td>\n",
              "      <td>0</td>\n",
              "      <td>4356</td>\n",
              "      <td>40</td>\n",
              "      <td>United-States</td>\n",
              "      <td>0</td>\n",
              "      <td>4.0</td>\n",
              "    </tr>\n",
              "    <tr>\n",
              "      <th>1</th>\n",
              "      <td>82</td>\n",
              "      <td>1</td>\n",
              "      <td>132870</td>\n",
              "      <td>9</td>\n",
              "      <td>2</td>\n",
              "      <td>3</td>\n",
              "      <td>Not-in-family</td>\n",
              "      <td>White</td>\n",
              "      <td>Female</td>\n",
              "      <td>0</td>\n",
              "      <td>4356</td>\n",
              "      <td>18</td>\n",
              "      <td>United-States</td>\n",
              "      <td>0</td>\n",
              "      <td>4.0</td>\n",
              "    </tr>\n",
              "    <tr>\n",
              "      <th>2</th>\n",
              "      <td>66</td>\n",
              "      <td>0</td>\n",
              "      <td>186061</td>\n",
              "      <td>10</td>\n",
              "      <td>2</td>\n",
              "      <td>7</td>\n",
              "      <td>Unmarried</td>\n",
              "      <td>Black</td>\n",
              "      <td>Female</td>\n",
              "      <td>0</td>\n",
              "      <td>4356</td>\n",
              "      <td>40</td>\n",
              "      <td>United-States</td>\n",
              "      <td>0</td>\n",
              "      <td>4.0</td>\n",
              "    </tr>\n",
              "    <tr>\n",
              "      <th>3</th>\n",
              "      <td>54</td>\n",
              "      <td>1</td>\n",
              "      <td>140359</td>\n",
              "      <td>4</td>\n",
              "      <td>2</td>\n",
              "      <td>6</td>\n",
              "      <td>Unmarried</td>\n",
              "      <td>White</td>\n",
              "      <td>Female</td>\n",
              "      <td>0</td>\n",
              "      <td>3900</td>\n",
              "      <td>40</td>\n",
              "      <td>United-States</td>\n",
              "      <td>0</td>\n",
              "      <td>3.0</td>\n",
              "    </tr>\n",
              "    <tr>\n",
              "      <th>4</th>\n",
              "      <td>41</td>\n",
              "      <td>1</td>\n",
              "      <td>264663</td>\n",
              "      <td>10</td>\n",
              "      <td>2</td>\n",
              "      <td>10</td>\n",
              "      <td>Own-child</td>\n",
              "      <td>White</td>\n",
              "      <td>Female</td>\n",
              "      <td>0</td>\n",
              "      <td>3900</td>\n",
              "      <td>40</td>\n",
              "      <td>United-States</td>\n",
              "      <td>0</td>\n",
              "      <td>2.0</td>\n",
              "    </tr>\n",
              "  </tbody>\n",
              "</table>\n",
              "</div>"
            ],
            "text/plain": [
              "   age  workclass  fnlwgt  ...  native.country  income  AgeRange\n",
              "0   90          0   77053  ...   United-States       0       4.0\n",
              "1   82          1  132870  ...   United-States       0       4.0\n",
              "2   66          0  186061  ...   United-States       0       4.0\n",
              "3   54          1  140359  ...   United-States       0       3.0\n",
              "4   41          1  264663  ...   United-States       0       2.0\n",
              "\n",
              "[5 rows x 15 columns]"
            ]
          },
          "metadata": {
            "tags": []
          },
          "execution_count": 231
        }
      ]
    },
    {
      "cell_type": "markdown",
      "metadata": {
        "id": "V05hbzSl_rLb"
      },
      "source": [
        "**7- Realtionship**"
      ]
    },
    {
      "cell_type": "code",
      "metadata": {
        "id": "7C0fpyTNAC_5",
        "colab": {
          "base_uri": "https://localhost:8080/"
        },
        "outputId": "1fab5dd1-1a41-4c5b-f063-bc1877bad5fc"
      },
      "source": [
        "print((train['relationship'].value_counts()))\n",
        "\n",
        "print('relationship',len(train['relationship'].value_counts()))\n"
      ],
      "execution_count": null,
      "outputs": [
        {
          "output_type": "stream",
          "text": [
            "Husband           12828\n",
            "Not-in-family      8061\n",
            "Own-child          4916\n",
            "Unmarried          3341\n",
            "Wife               1529\n",
            "Other-relative      939\n",
            "Name: relationship, dtype: int64\n",
            "relationship 6\n"
          ],
          "name": "stdout"
        }
      ]
    },
    {
      "cell_type": "markdown",
      "metadata": {
        "id": "_9m6NhQYCKWb"
      },
      "source": [
        "we can find that most who have high salary are married men which is similar to the results from the marital status countplot"
      ]
    },
    {
      "cell_type": "code",
      "metadata": {
        "id": "zH6n5rwwBXHI",
        "colab": {
          "base_uri": "https://localhost:8080/",
          "height": 624
        },
        "outputId": "a9f50043-a135-43c1-b770-37b1985c62ea"
      },
      "source": [
        "plt.figure(figsize=(20,10))\n",
        "\n",
        "sns.countplot(data=train,x='relationship',hue='income')"
      ],
      "execution_count": null,
      "outputs": [
        {
          "output_type": "execute_result",
          "data": {
            "text/plain": [
              "<matplotlib.axes._subplots.AxesSubplot at 0x7f853e9af4e0>"
            ]
          },
          "metadata": {
            "tags": []
          },
          "execution_count": 233
        },
        {
          "output_type": "display_data",
          "data": {
            "image/png": "[encoded data removed]",
            "text/plain": [
              "<Figure size 1440x720 with 1 Axes>"
            ]
          },
          "metadata": {
            "tags": []
          }
        }
      ]
    },
    {
      "cell_type": "code",
      "metadata": {
        "id": "bzBxq_xyBk0Q",
        "colab": {
          "base_uri": "https://localhost:8080/",
          "height": 194
        },
        "outputId": "9d19a727-4947-4559-bb1a-4d7dcb820fe3"
      },
      "source": [
        "train['relationship'] = LabelEncoder().fit_transform(train['relationship'])\n",
        "train.head()"
      ],
      "execution_count": null,
      "outputs": [
        {
          "output_type": "execute_result",
          "data": {
            "text/html": [
              "<div>\n",
              "<style scoped>\n",
              "    .dataframe tbody tr th:only-of-type {\n",
              "        vertical-align: middle;\n",
              "    }\n",
              "\n",
              "    .dataframe tbody tr th {\n",
              "        vertical-align: top;\n",
              "    }\n",
              "\n",
              "    .dataframe thead th {\n",
              "        text-align: right;\n",
              "    }\n",
              "</style>\n",
              "<table border=\"1\" class=\"dataframe\">\n",
              "  <thead>\n",
              "    <tr style=\"text-align: right;\">\n",
              "      <th></th>\n",
              "      <th>age</th>\n",
              "      <th>workclass</th>\n",
              "      <th>fnlwgt</th>\n",
              "      <th>education.num</th>\n",
              "      <th>marital.status</th>\n",
              "      <th>occupation</th>\n",
              "      <th>relationship</th>\n",
              "      <th>race</th>\n",
              "      <th>sex</th>\n",
              "      <th>capital.gain</th>\n",
              "      <th>capital.loss</th>\n",
              "      <th>hours.per.week</th>\n",
              "      <th>native.country</th>\n",
              "      <th>income</th>\n",
              "      <th>AgeRange</th>\n",
              "    </tr>\n",
              "  </thead>\n",
              "  <tbody>\n",
              "    <tr>\n",
              "      <th>0</th>\n",
              "      <td>90</td>\n",
              "      <td>0</td>\n",
              "      <td>77053</td>\n",
              "      <td>9</td>\n",
              "      <td>2</td>\n",
              "      <td>7</td>\n",
              "      <td>1</td>\n",
              "      <td>White</td>\n",
              "      <td>Female</td>\n",
              "      <td>0</td>\n",
              "      <td>4356</td>\n",
              "      <td>40</td>\n",
              "      <td>United-States</td>\n",
              "      <td>0</td>\n",
              "      <td>4.0</td>\n",
              "    </tr>\n",
              "    <tr>\n",
              "      <th>1</th>\n",
              "      <td>82</td>\n",
              "      <td>1</td>\n",
              "      <td>132870</td>\n",
              "      <td>9</td>\n",
              "      <td>2</td>\n",
              "      <td>3</td>\n",
              "      <td>1</td>\n",
              "      <td>White</td>\n",
              "      <td>Female</td>\n",
              "      <td>0</td>\n",
              "      <td>4356</td>\n",
              "      <td>18</td>\n",
              "      <td>United-States</td>\n",
              "      <td>0</td>\n",
              "      <td>4.0</td>\n",
              "    </tr>\n",
              "    <tr>\n",
              "      <th>2</th>\n",
              "      <td>66</td>\n",
              "      <td>0</td>\n",
              "      <td>186061</td>\n",
              "      <td>10</td>\n",
              "      <td>2</td>\n",
              "      <td>7</td>\n",
              "      <td>4</td>\n",
              "      <td>Black</td>\n",
              "      <td>Female</td>\n",
              "      <td>0</td>\n",
              "      <td>4356</td>\n",
              "      <td>40</td>\n",
              "      <td>United-States</td>\n",
              "      <td>0</td>\n",
              "      <td>4.0</td>\n",
              "    </tr>\n",
              "    <tr>\n",
              "      <th>3</th>\n",
              "      <td>54</td>\n",
              "      <td>1</td>\n",
              "      <td>140359</td>\n",
              "      <td>4</td>\n",
              "      <td>2</td>\n",
              "      <td>6</td>\n",
              "      <td>4</td>\n",
              "      <td>White</td>\n",
              "      <td>Female</td>\n",
              "      <td>0</td>\n",
              "      <td>3900</td>\n",
              "      <td>40</td>\n",
              "      <td>United-States</td>\n",
              "      <td>0</td>\n",
              "      <td>3.0</td>\n",
              "    </tr>\n",
              "    <tr>\n",
              "      <th>4</th>\n",
              "      <td>41</td>\n",
              "      <td>1</td>\n",
              "      <td>264663</td>\n",
              "      <td>10</td>\n",
              "      <td>2</td>\n",
              "      <td>10</td>\n",
              "      <td>3</td>\n",
              "      <td>White</td>\n",
              "      <td>Female</td>\n",
              "      <td>0</td>\n",
              "      <td>3900</td>\n",
              "      <td>40</td>\n",
              "      <td>United-States</td>\n",
              "      <td>0</td>\n",
              "      <td>2.0</td>\n",
              "    </tr>\n",
              "  </tbody>\n",
              "</table>\n",
              "</div>"
            ],
            "text/plain": [
              "   age  workclass  fnlwgt  ...  native.country  income  AgeRange\n",
              "0   90          0   77053  ...   United-States       0       4.0\n",
              "1   82          1  132870  ...   United-States       0       4.0\n",
              "2   66          0  186061  ...   United-States       0       4.0\n",
              "3   54          1  140359  ...   United-States       0       3.0\n",
              "4   41          1  264663  ...   United-States       0       2.0\n",
              "\n",
              "[5 rows x 15 columns]"
            ]
          },
          "metadata": {
            "tags": []
          },
          "execution_count": 234
        }
      ]
    },
    {
      "cell_type": "markdown",
      "metadata": {
        "id": "X1tV-LAzHpAQ"
      },
      "source": [
        "The doesnt seem to be a good correlation between both attributes so they both should be kept\n"
      ]
    },
    {
      "cell_type": "code",
      "metadata": {
        "id": "afMgNCJYEOm3",
        "colab": {
          "base_uri": "https://localhost:8080/",
          "height": 505
        },
        "outputId": "fc1ada68-4785-4d3c-dfd7-e520bede23d9"
      },
      "source": [
        "\n",
        "\n",
        "corr = train[['relationship','marital.status']].corr()\n",
        "f, ax = plt.subplots(figsize=(20, 8))\n",
        "cmap = sns.diverging_palette(220, 10, as_cmap=True)\n",
        "sns.heatmap(corr,linewidths=.5, annot= True)\n"
      ],
      "execution_count": null,
      "outputs": [
        {
          "output_type": "execute_result",
          "data": {
            "text/plain": [
              "<matplotlib.axes._subplots.AxesSubplot at 0x7f8540089400>"
            ]
          },
          "metadata": {
            "tags": []
          },
          "execution_count": 235
        },
        {
          "output_type": "display_data",
          "data": {
            "image/png": "[encoded data removed]",
            "text/plain": [
              "<Figure size 1440x576 with 2 Axes>"
            ]
          },
          "metadata": {
            "tags": []
          }
        }
      ]
    },
    {
      "cell_type": "markdown",
      "metadata": {
        "id": "97e-aNYF5Bnj"
      },
      "source": [
        "**8- Capital loss and gain**"
      ]
    },
    {
      "cell_type": "markdown",
      "metadata": {
        "id": "fKAff1Iv5OcZ"
      },
      "source": [
        "these two features are linked to each other and that's why I'm exploring both of them at the same time.\n",
        "\n",
        "the capital gain:  basically when someone decides to so sell anything so the amount of money they sold the thing for minus the amount of money they spent on buying it before is the capital gain.\n",
        "\n",
        "the capital loss: it's exactly the opposite of the capital gain but in this case the amount of money they spent on buying a thing is more than what they got for selling it"
      ]
    },
    {
      "cell_type": "markdown",
      "metadata": {
        "id": "J4JjlGbt60rV"
      },
      "source": [
        "both features have 0 nan values"
      ]
    },
    {
      "cell_type": "code",
      "metadata": {
        "id": "yGa12OPO6rPY",
        "colab": {
          "base_uri": "https://localhost:8080/"
        },
        "outputId": "7cc182e6-3310-485d-96d5-1e3c033ca840"
      },
      "source": [
        "train['capital.gain'].isna().sum()"
      ],
      "execution_count": null,
      "outputs": [
        {
          "output_type": "execute_result",
          "data": {
            "text/plain": [
              "0"
            ]
          },
          "metadata": {
            "tags": []
          },
          "execution_count": 236
        }
      ]
    },
    {
      "cell_type": "code",
      "metadata": {
        "id": "YJHpRC6f6vam",
        "colab": {
          "base_uri": "https://localhost:8080/"
        },
        "outputId": "4712ea20-1440-4de2-d2d4-0240b2b7bcd0"
      },
      "source": [
        "train['capital.loss'].isna().sum()"
      ],
      "execution_count": null,
      "outputs": [
        {
          "output_type": "execute_result",
          "data": {
            "text/plain": [
              "0"
            ]
          },
          "metadata": {
            "tags": []
          },
          "execution_count": 237
        }
      ]
    },
    {
      "cell_type": "markdown",
      "metadata": {
        "id": "uqqpkjL46TuG"
      },
      "source": [
        "the capital loss is more cocise than the gain but we can combine both of them to get the capital net which may does a better job than both of them individually"
      ]
    },
    {
      "cell_type": "code",
      "metadata": {
        "id": "xHrQn-2R2H-R",
        "colab": {
          "base_uri": "https://localhost:8080/",
          "height": 283
        },
        "outputId": "cededbda-ee22-4ee6-fe60-dae2ff14456d"
      },
      "source": [
        "fig, ax = plt.subplots()\n",
        "train.boxplot(column = ['capital.gain', 'capital.loss'],ax =ax)"
      ],
      "execution_count": null,
      "outputs": [
        {
          "output_type": "execute_result",
          "data": {
            "text/plain": [
              "<matplotlib.axes._subplots.AxesSubplot at 0x7f853da76400>"
            ]
          },
          "metadata": {
            "tags": []
          },
          "execution_count": 238
        },
        {
          "output_type": "display_data",
          "data": {
            "image/png": "[encoded data removed]",
            "text/plain": [
              "<Figure size 432x288 with 1 Axes>"
            ]
          },
          "metadata": {
            "tags": []
          }
        }
      ]
    },
    {
      "cell_type": "markdown",
      "metadata": {
        "id": "Krro0VQl7CAT"
      },
      "source": [
        "the capital net is the amount they gained minus what they lost"
      ]
    },
    {
      "cell_type": "code",
      "metadata": {
        "id": "9zklrB6E6Luf"
      },
      "source": [
        "train['capital.net'] = train['capital.gain']- train['capital.loss']"
      ],
      "execution_count": null,
      "outputs": []
    },
    {
      "cell_type": "markdown",
      "metadata": {
        "id": "AMFZBrFj7gjf"
      },
      "source": [
        "we have 210 different values in the capital net so we can divide them into 7 bins with 30 values in each bin"
      ]
    },
    {
      "cell_type": "code",
      "metadata": {
        "id": "40hU4JBn7BMN",
        "colab": {
          "base_uri": "https://localhost:8080/"
        },
        "outputId": "0adb3eeb-9da9-4e94-e225-be8c0edfeffe"
      },
      "source": [
        "len(train['capital.net'].unique())"
      ],
      "execution_count": null,
      "outputs": [
        {
          "output_type": "execute_result",
          "data": {
            "text/plain": [
              "210"
            ]
          },
          "metadata": {
            "tags": []
          },
          "execution_count": 240
        }
      ]
    },
    {
      "cell_type": "code",
      "metadata": {
        "id": "yDBv4zik7MDd",
        "colab": {
          "base_uri": "https://localhost:8080/"
        },
        "outputId": "b03c2b03-8cb8-4ff6-beb3-c76112efb9c3"
      },
      "source": [
        "cap = train['capital.net'].unique()\n",
        "lis = sorted(cap)\n",
        "i=0\n",
        "bins = []\n",
        "while i<len(lis):\n",
        "    bins = bins + [lis[i]]\n",
        "    i+=30\n",
        "bins = bins + [np.inf]\n",
        "\n",
        "i=0\n",
        "names = []\n",
        "while i < len(bins)-2:\n",
        "    names = names + [str(bins[i]) + ' : '+str(bins[i+1])]\n",
        "    i+=1\n",
        "names = names + [str(bins[-2])+'+']\n",
        "names"
      ],
      "execution_count": null,
      "outputs": [
        {
          "output_type": "execute_result",
          "data": {
            "text/plain": [
              "['-4356 : -2174',\n",
              " '-2174 : -1669',\n",
              " '-1669 : -155',\n",
              " '-155 : 2290',\n",
              " '2290 : 3471',\n",
              " '3471 : 6767',\n",
              " '6767+']"
            ]
          },
          "metadata": {
            "tags": []
          },
          "execution_count": 241
        }
      ]
    },
    {
      "cell_type": "code",
      "metadata": {
        "id": "zqHLGNls7rXb",
        "colab": {
          "base_uri": "https://localhost:8080/"
        },
        "outputId": "b4dbfda0-c29b-4db9-8bea-2a86faafb617"
      },
      "source": [
        "i=0\n",
        "categories = {}\n",
        "while(i<len(names)):\n",
        "    categories[names[i]] = i\n",
        "    i+=1\n",
        "categories"
      ],
      "execution_count": null,
      "outputs": [
        {
          "output_type": "execute_result",
          "data": {
            "text/plain": [
              "{'-155 : 2290': 3,\n",
              " '-1669 : -155': 2,\n",
              " '-2174 : -1669': 1,\n",
              " '-4356 : -2174': 0,\n",
              " '2290 : 3471': 4,\n",
              " '3471 : 6767': 5,\n",
              " '6767+': 6}"
            ]
          },
          "metadata": {
            "tags": []
          },
          "execution_count": 242
        }
      ]
    },
    {
      "cell_type": "markdown",
      "metadata": {
        "id": "zyezKyND77FA"
      },
      "source": [
        "we will cut the capital net on=ver the 7 bins and map them to the categories we have"
      ]
    },
    {
      "cell_type": "code",
      "metadata": {
        "id": "GT049FEm7v6U"
      },
      "source": [
        "train['capital.range'] = pd.cut(train['capital.net'], bins, labels=names)\n",
        "train['capital.range'] = train['capital.range'].map(categories)\n",
        "train['capital.range'] = pd.to_numeric(train['capital.range'])\n",
        "train['capital.range'].fillna(0, inplace=True)"
      ],
      "execution_count": null,
      "outputs": []
    },
    {
      "cell_type": "markdown",
      "metadata": {
        "id": "Q27P30R08YL1"
      },
      "source": [
        "we can infer that the third category which has a capital net of -155 : 2290 is the most frequent and most of them belong to <=50k category\n",
        "\n",
        "and most of the people in the sixth category happen to be in >50k category"
      ]
    },
    {
      "cell_type": "code",
      "metadata": {
        "id": "yTgHket1721g",
        "colab": {
          "base_uri": "https://localhost:8080/",
          "height": 624
        },
        "outputId": "a0224cf6-082f-4863-9898-fb413b5e25b4"
      },
      "source": [
        "plt.figure(figsize=(20,10))\n",
        "sns.countplot(x=\"capital.range\", hue=\"income\", data=train)"
      ],
      "execution_count": null,
      "outputs": [
        {
          "output_type": "execute_result",
          "data": {
            "text/plain": [
              "<matplotlib.axes._subplots.AxesSubplot at 0x7f853dc4d6a0>"
            ]
          },
          "metadata": {
            "tags": []
          },
          "execution_count": 244
        },
        {
          "output_type": "display_data",
          "data": {
            "image/png": "[encoded data removed]",
            "text/plain": [
              "<Figure size 1440x720 with 1 Axes>"
            ]
          },
          "metadata": {
            "tags": []
          }
        }
      ]
    },
    {
      "cell_type": "code",
      "metadata": {
        "id": "QmIkwrZp8MwI",
        "colab": {
          "base_uri": "https://localhost:8080/",
          "height": 194
        },
        "outputId": "75d440be-2140-4da0-8848-788ce35a367d"
      },
      "source": [
        "train.head()"
      ],
      "execution_count": null,
      "outputs": [
        {
          "output_type": "execute_result",
          "data": {
            "text/html": [
              "<div>\n",
              "<style scoped>\n",
              "    .dataframe tbody tr th:only-of-type {\n",
              "        vertical-align: middle;\n",
              "    }\n",
              "\n",
              "    .dataframe tbody tr th {\n",
              "        vertical-align: top;\n",
              "    }\n",
              "\n",
              "    .dataframe thead th {\n",
              "        text-align: right;\n",
              "    }\n",
              "</style>\n",
              "<table border=\"1\" class=\"dataframe\">\n",
              "  <thead>\n",
              "    <tr style=\"text-align: right;\">\n",
              "      <th></th>\n",
              "      <th>age</th>\n",
              "      <th>workclass</th>\n",
              "      <th>fnlwgt</th>\n",
              "      <th>education.num</th>\n",
              "      <th>marital.status</th>\n",
              "      <th>occupation</th>\n",
              "      <th>relationship</th>\n",
              "      <th>race</th>\n",
              "      <th>sex</th>\n",
              "      <th>capital.gain</th>\n",
              "      <th>capital.loss</th>\n",
              "      <th>hours.per.week</th>\n",
              "      <th>native.country</th>\n",
              "      <th>income</th>\n",
              "      <th>AgeRange</th>\n",
              "      <th>capital.net</th>\n",
              "      <th>capital.range</th>\n",
              "    </tr>\n",
              "  </thead>\n",
              "  <tbody>\n",
              "    <tr>\n",
              "      <th>0</th>\n",
              "      <td>90</td>\n",
              "      <td>0</td>\n",
              "      <td>77053</td>\n",
              "      <td>9</td>\n",
              "      <td>2</td>\n",
              "      <td>7</td>\n",
              "      <td>1</td>\n",
              "      <td>White</td>\n",
              "      <td>Female</td>\n",
              "      <td>0</td>\n",
              "      <td>4356</td>\n",
              "      <td>40</td>\n",
              "      <td>United-States</td>\n",
              "      <td>0</td>\n",
              "      <td>4.0</td>\n",
              "      <td>-4356</td>\n",
              "      <td>0.0</td>\n",
              "    </tr>\n",
              "    <tr>\n",
              "      <th>1</th>\n",
              "      <td>82</td>\n",
              "      <td>1</td>\n",
              "      <td>132870</td>\n",
              "      <td>9</td>\n",
              "      <td>2</td>\n",
              "      <td>3</td>\n",
              "      <td>1</td>\n",
              "      <td>White</td>\n",
              "      <td>Female</td>\n",
              "      <td>0</td>\n",
              "      <td>4356</td>\n",
              "      <td>18</td>\n",
              "      <td>United-States</td>\n",
              "      <td>0</td>\n",
              "      <td>4.0</td>\n",
              "      <td>-4356</td>\n",
              "      <td>0.0</td>\n",
              "    </tr>\n",
              "    <tr>\n",
              "      <th>2</th>\n",
              "      <td>66</td>\n",
              "      <td>0</td>\n",
              "      <td>186061</td>\n",
              "      <td>10</td>\n",
              "      <td>2</td>\n",
              "      <td>7</td>\n",
              "      <td>4</td>\n",
              "      <td>Black</td>\n",
              "      <td>Female</td>\n",
              "      <td>0</td>\n",
              "      <td>4356</td>\n",
              "      <td>40</td>\n",
              "      <td>United-States</td>\n",
              "      <td>0</td>\n",
              "      <td>4.0</td>\n",
              "      <td>-4356</td>\n",
              "      <td>0.0</td>\n",
              "    </tr>\n",
              "    <tr>\n",
              "      <th>3</th>\n",
              "      <td>54</td>\n",
              "      <td>1</td>\n",
              "      <td>140359</td>\n",
              "      <td>4</td>\n",
              "      <td>2</td>\n",
              "      <td>6</td>\n",
              "      <td>4</td>\n",
              "      <td>White</td>\n",
              "      <td>Female</td>\n",
              "      <td>0</td>\n",
              "      <td>3900</td>\n",
              "      <td>40</td>\n",
              "      <td>United-States</td>\n",
              "      <td>0</td>\n",
              "      <td>3.0</td>\n",
              "      <td>-3900</td>\n",
              "      <td>0.0</td>\n",
              "    </tr>\n",
              "    <tr>\n",
              "      <th>4</th>\n",
              "      <td>41</td>\n",
              "      <td>1</td>\n",
              "      <td>264663</td>\n",
              "      <td>10</td>\n",
              "      <td>2</td>\n",
              "      <td>10</td>\n",
              "      <td>3</td>\n",
              "      <td>White</td>\n",
              "      <td>Female</td>\n",
              "      <td>0</td>\n",
              "      <td>3900</td>\n",
              "      <td>40</td>\n",
              "      <td>United-States</td>\n",
              "      <td>0</td>\n",
              "      <td>2.0</td>\n",
              "      <td>-3900</td>\n",
              "      <td>0.0</td>\n",
              "    </tr>\n",
              "  </tbody>\n",
              "</table>\n",
              "</div>"
            ],
            "text/plain": [
              "   age  workclass  fnlwgt  ...  AgeRange  capital.net  capital.range\n",
              "0   90          0   77053  ...       4.0        -4356            0.0\n",
              "1   82          1  132870  ...       4.0        -4356            0.0\n",
              "2   66          0  186061  ...       4.0        -4356            0.0\n",
              "3   54          1  140359  ...       3.0        -3900            0.0\n",
              "4   41          1  264663  ...       2.0        -3900            0.0\n",
              "\n",
              "[5 rows x 17 columns]"
            ]
          },
          "metadata": {
            "tags": []
          },
          "execution_count": 245
        }
      ]
    },
    {
      "cell_type": "code",
      "metadata": {
        "id": "7hsWDThr9Rhi",
        "colab": {
          "base_uri": "https://localhost:8080/",
          "height": 458
        },
        "outputId": "eb67f4c4-28e0-410b-eb3c-54c83a6dee4e"
      },
      "source": [
        "train.corr()"
      ],
      "execution_count": null,
      "outputs": [
        {
          "output_type": "execute_result",
          "data": {
            "text/html": [
              "<div>\n",
              "<style scoped>\n",
              "    .dataframe tbody tr th:only-of-type {\n",
              "        vertical-align: middle;\n",
              "    }\n",
              "\n",
              "    .dataframe tbody tr th {\n",
              "        vertical-align: top;\n",
              "    }\n",
              "\n",
              "    .dataframe thead th {\n",
              "        text-align: right;\n",
              "    }\n",
              "</style>\n",
              "<table border=\"1\" class=\"dataframe\">\n",
              "  <thead>\n",
              "    <tr style=\"text-align: right;\">\n",
              "      <th></th>\n",
              "      <th>age</th>\n",
              "      <th>workclass</th>\n",
              "      <th>fnlwgt</th>\n",
              "      <th>education.num</th>\n",
              "      <th>marital.status</th>\n",
              "      <th>occupation</th>\n",
              "      <th>relationship</th>\n",
              "      <th>capital.gain</th>\n",
              "      <th>capital.loss</th>\n",
              "      <th>hours.per.week</th>\n",
              "      <th>income</th>\n",
              "      <th>AgeRange</th>\n",
              "      <th>capital.net</th>\n",
              "      <th>capital.range</th>\n",
              "    </tr>\n",
              "  </thead>\n",
              "  <tbody>\n",
              "    <tr>\n",
              "      <th>age</th>\n",
              "      <td>1.000000</td>\n",
              "      <td>0.137191</td>\n",
              "      <td>-0.067285</td>\n",
              "      <td>0.033854</td>\n",
              "      <td>-0.083962</td>\n",
              "      <td>-0.005345</td>\n",
              "      <td>-0.263184</td>\n",
              "      <td>0.077989</td>\n",
              "      <td>0.055904</td>\n",
              "      <td>0.069195</td>\n",
              "      <td>0.232350</td>\n",
              "      <td>0.956651</td>\n",
              "      <td>0.074679</td>\n",
              "      <td>0.066578</td>\n",
              "    </tr>\n",
              "    <tr>\n",
              "      <th>workclass</th>\n",
              "      <td>0.137191</td>\n",
              "      <td>1.000000</td>\n",
              "      <td>-0.034933</td>\n",
              "      <td>0.177509</td>\n",
              "      <td>-0.068290</td>\n",
              "      <td>-0.016543</td>\n",
              "      <td>-0.085562</td>\n",
              "      <td>0.049042</td>\n",
              "      <td>0.034391</td>\n",
              "      <td>0.119644</td>\n",
              "      <td>0.151662</td>\n",
              "      <td>0.144568</td>\n",
              "      <td>0.047002</td>\n",
              "      <td>0.033571</td>\n",
              "    </tr>\n",
              "    <tr>\n",
              "      <th>fnlwgt</th>\n",
              "      <td>-0.067285</td>\n",
              "      <td>-0.034933</td>\n",
              "      <td>1.000000</td>\n",
              "      <td>-0.035876</td>\n",
              "      <td>0.010457</td>\n",
              "      <td>-0.000605</td>\n",
              "      <td>0.006034</td>\n",
              "      <td>0.001341</td>\n",
              "      <td>-0.003269</td>\n",
              "      <td>-0.016356</td>\n",
              "      <td>-0.004785</td>\n",
              "      <td>-0.065849</td>\n",
              "      <td>0.001516</td>\n",
              "      <td>0.000713</td>\n",
              "    </tr>\n",
              "    <tr>\n",
              "      <th>education.num</th>\n",
              "      <td>0.033854</td>\n",
              "      <td>0.177509</td>\n",
              "      <td>-0.035876</td>\n",
              "      <td>1.000000</td>\n",
              "      <td>-0.087548</td>\n",
              "      <td>0.090259</td>\n",
              "      <td>-0.093853</td>\n",
              "      <td>0.121238</td>\n",
              "      <td>0.080178</td>\n",
              "      <td>0.148797</td>\n",
              "      <td>0.334821</td>\n",
              "      <td>0.045163</td>\n",
              "      <td>0.116460</td>\n",
              "      <td>0.083342</td>\n",
              "    </tr>\n",
              "    <tr>\n",
              "      <th>marital.status</th>\n",
              "      <td>-0.083962</td>\n",
              "      <td>-0.068290</td>\n",
              "      <td>0.010457</td>\n",
              "      <td>-0.087548</td>\n",
              "      <td>1.000000</td>\n",
              "      <td>-0.031548</td>\n",
              "      <td>0.467309</td>\n",
              "      <td>-0.069297</td>\n",
              "      <td>-0.065663</td>\n",
              "      <td>-0.154932</td>\n",
              "      <td>-0.377098</td>\n",
              "      <td>-0.093699</td>\n",
              "      <td>-0.065482</td>\n",
              "      <td>-0.067085</td>\n",
              "    </tr>\n",
              "    <tr>\n",
              "      <th>occupation</th>\n",
              "      <td>-0.005345</td>\n",
              "      <td>-0.016543</td>\n",
              "      <td>-0.000605</td>\n",
              "      <td>0.090259</td>\n",
              "      <td>-0.031548</td>\n",
              "      <td>1.000000</td>\n",
              "      <td>-0.039830</td>\n",
              "      <td>0.019526</td>\n",
              "      <td>0.011957</td>\n",
              "      <td>0.004671</td>\n",
              "      <td>0.045516</td>\n",
              "      <td>-0.006904</td>\n",
              "      <td>0.018809</td>\n",
              "      <td>0.007326</td>\n",
              "    </tr>\n",
              "    <tr>\n",
              "      <th>relationship</th>\n",
              "      <td>-0.263184</td>\n",
              "      <td>-0.085562</td>\n",
              "      <td>0.006034</td>\n",
              "      <td>-0.093853</td>\n",
              "      <td>0.467309</td>\n",
              "      <td>-0.039830</td>\n",
              "      <td>1.000000</td>\n",
              "      <td>-0.057455</td>\n",
              "      <td>-0.060419</td>\n",
              "      <td>-0.250465</td>\n",
              "      <td>-0.250804</td>\n",
              "      <td>-0.268152</td>\n",
              "      <td>-0.053965</td>\n",
              "      <td>-0.046035</td>\n",
              "    </tr>\n",
              "    <tr>\n",
              "      <th>capital.gain</th>\n",
              "      <td>0.077989</td>\n",
              "      <td>0.049042</td>\n",
              "      <td>0.001341</td>\n",
              "      <td>0.121238</td>\n",
              "      <td>-0.069297</td>\n",
              "      <td>0.019526</td>\n",
              "      <td>-0.057455</td>\n",
              "      <td>1.000000</td>\n",
              "      <td>-0.031822</td>\n",
              "      <td>0.076278</td>\n",
              "      <td>0.222913</td>\n",
              "      <td>0.078914</td>\n",
              "      <td>0.998505</td>\n",
              "      <td>0.488127</td>\n",
              "    </tr>\n",
              "    <tr>\n",
              "      <th>capital.loss</th>\n",
              "      <td>0.055904</td>\n",
              "      <td>0.034391</td>\n",
              "      <td>-0.003269</td>\n",
              "      <td>0.080178</td>\n",
              "      <td>-0.065663</td>\n",
              "      <td>0.011957</td>\n",
              "      <td>-0.060419</td>\n",
              "      <td>-0.031822</td>\n",
              "      <td>1.000000</td>\n",
              "      <td>0.054479</td>\n",
              "      <td>0.151884</td>\n",
              "      <td>0.059595</td>\n",
              "      <td>-0.086412</td>\n",
              "      <td>-0.567623</td>\n",
              "    </tr>\n",
              "    <tr>\n",
              "      <th>hours.per.week</th>\n",
              "      <td>0.069195</td>\n",
              "      <td>0.119644</td>\n",
              "      <td>-0.016356</td>\n",
              "      <td>0.148797</td>\n",
              "      <td>-0.154932</td>\n",
              "      <td>0.004671</td>\n",
              "      <td>-0.250465</td>\n",
              "      <td>0.076278</td>\n",
              "      <td>0.054479</td>\n",
              "      <td>1.000000</td>\n",
              "      <td>0.229627</td>\n",
              "      <td>0.101088</td>\n",
              "      <td>0.073052</td>\n",
              "      <td>0.051704</td>\n",
              "    </tr>\n",
              "    <tr>\n",
              "      <th>income</th>\n",
              "      <td>0.232350</td>\n",
              "      <td>0.151662</td>\n",
              "      <td>-0.004785</td>\n",
              "      <td>0.334821</td>\n",
              "      <td>-0.377098</td>\n",
              "      <td>0.045516</td>\n",
              "      <td>-0.250804</td>\n",
              "      <td>0.222913</td>\n",
              "      <td>0.151884</td>\n",
              "      <td>0.229627</td>\n",
              "      <td>1.000000</td>\n",
              "      <td>0.251215</td>\n",
              "      <td>0.213885</td>\n",
              "      <td>0.202320</td>\n",
              "    </tr>\n",
              "    <tr>\n",
              "      <th>AgeRange</th>\n",
              "      <td>0.956651</td>\n",
              "      <td>0.144568</td>\n",
              "      <td>-0.065849</td>\n",
              "      <td>0.045163</td>\n",
              "      <td>-0.093699</td>\n",
              "      <td>-0.006904</td>\n",
              "      <td>-0.268152</td>\n",
              "      <td>0.078914</td>\n",
              "      <td>0.059595</td>\n",
              "      <td>0.101088</td>\n",
              "      <td>0.251215</td>\n",
              "      <td>1.000000</td>\n",
              "      <td>0.075400</td>\n",
              "      <td>0.068807</td>\n",
              "    </tr>\n",
              "    <tr>\n",
              "      <th>capital.net</th>\n",
              "      <td>0.074679</td>\n",
              "      <td>0.047002</td>\n",
              "      <td>0.001516</td>\n",
              "      <td>0.116460</td>\n",
              "      <td>-0.065482</td>\n",
              "      <td>0.018809</td>\n",
              "      <td>-0.053965</td>\n",
              "      <td>0.998505</td>\n",
              "      <td>-0.086412</td>\n",
              "      <td>0.073052</td>\n",
              "      <td>0.213885</td>\n",
              "      <td>0.075400</td>\n",
              "      <td>1.000000</td>\n",
              "      <td>0.517592</td>\n",
              "    </tr>\n",
              "    <tr>\n",
              "      <th>capital.range</th>\n",
              "      <td>0.066578</td>\n",
              "      <td>0.033571</td>\n",
              "      <td>0.000713</td>\n",
              "      <td>0.083342</td>\n",
              "      <td>-0.067085</td>\n",
              "      <td>0.007326</td>\n",
              "      <td>-0.046035</td>\n",
              "      <td>0.488127</td>\n",
              "      <td>-0.567623</td>\n",
              "      <td>0.051704</td>\n",
              "      <td>0.202320</td>\n",
              "      <td>0.068807</td>\n",
              "      <td>0.517592</td>\n",
              "      <td>1.000000</td>\n",
              "    </tr>\n",
              "  </tbody>\n",
              "</table>\n",
              "</div>"
            ],
            "text/plain": [
              "                     age  workclass  ...  capital.net  capital.range\n",
              "age             1.000000   0.137191  ...     0.074679       0.066578\n",
              "workclass       0.137191   1.000000  ...     0.047002       0.033571\n",
              "fnlwgt         -0.067285  -0.034933  ...     0.001516       0.000713\n",
              "education.num   0.033854   0.177509  ...     0.116460       0.083342\n",
              "marital.status -0.083962  -0.068290  ...    -0.065482      -0.067085\n",
              "occupation     -0.005345  -0.016543  ...     0.018809       0.007326\n",
              "relationship   -0.263184  -0.085562  ...    -0.053965      -0.046035\n",
              "capital.gain    0.077989   0.049042  ...     0.998505       0.488127\n",
              "capital.loss    0.055904   0.034391  ...    -0.086412      -0.567623\n",
              "hours.per.week  0.069195   0.119644  ...     0.073052       0.051704\n",
              "income          0.232350   0.151662  ...     0.213885       0.202320\n",
              "AgeRange        0.956651   0.144568  ...     0.075400       0.068807\n",
              "capital.net     0.074679   0.047002  ...     1.000000       0.517592\n",
              "capital.range   0.066578   0.033571  ...     0.517592       1.000000\n",
              "\n",
              "[14 rows x 14 columns]"
            ]
          },
          "metadata": {
            "tags": []
          },
          "execution_count": 246
        }
      ]
    },
    {
      "cell_type": "markdown",
      "metadata": {
        "id": "tqboyjRCeOvz"
      },
      "source": [
        "**9- native Country**"
      ]
    },
    {
      "cell_type": "markdown",
      "metadata": {
        "id": "PRhupTukeflt"
      },
      "source": [
        "the data seems to be skewed to the united states category so there maybe no need to use this column and we will drop it"
      ]
    },
    {
      "cell_type": "code",
      "metadata": {
        "id": "ZG7_SQMPDd9o",
        "colab": {
          "base_uri": "https://localhost:8080/"
        },
        "outputId": "3263abee-29b1-47dc-8587-9bbba7e65c9c"
      },
      "source": [
        "train['native.country'].value_counts()"
      ],
      "execution_count": null,
      "outputs": [
        {
          "output_type": "execute_result",
          "data": {
            "text/plain": [
              "United-States                 28388\n",
              "Mexico                          554\n",
              "Philippines                     197\n",
              "Germany                         134\n",
              "Canada                          118\n",
              "Puerto-Rico                     111\n",
              "India                           100\n",
              "El-Salvador                      94\n",
              "Cuba                             94\n",
              "England                          88\n",
              "Jamaica                          81\n",
              "South                            80\n",
              "China                            75\n",
              "Italy                            71\n",
              "Dominican-Republic               70\n",
              "Vietnam                          67\n",
              "Poland                           60\n",
              "Japan                            60\n",
              "Columbia                         57\n",
              "Guatemala                        52\n",
              "Taiwan                           50\n",
              "Haiti                            44\n",
              "Iran                             42\n",
              "Portugal                         37\n",
              "Nicaragua                        29\n",
              "Greece                           29\n",
              "Ecuador                          28\n",
              "France                           28\n",
              "Peru                             25\n",
              "Ireland                          24\n",
              "Hong                             20\n",
              "Cambodia                         19\n",
              "Laos                             18\n",
              "Thailand                         18\n",
              "Trinadad&Tobago                  17\n",
              "Yugoslavia                       15\n",
              "Outlying-US(Guam-USVI-etc)       14\n",
              "Hungary                          13\n",
              "Honduras                         13\n",
              "Scotland                         12\n",
              "Holand-Netherlands                1\n",
              "Name: native.country, dtype: int64"
            ]
          },
          "metadata": {
            "tags": []
          },
          "execution_count": 247
        }
      ]
    },
    {
      "cell_type": "code",
      "metadata": {
        "id": "BsJmGdVucsp-"
      },
      "source": [
        "train.drop('native.country',axis='columns', inplace=True)"
      ],
      "execution_count": null,
      "outputs": []
    },
    {
      "cell_type": "markdown",
      "metadata": {
        "id": "eLEoTxAWeosH"
      },
      "source": [
        "**10- race**"
      ]
    },
    {
      "cell_type": "markdown",
      "metadata": {
        "id": "FskLYRL9f7qv"
      },
      "source": [
        "this column consists of 5 race categories. \n",
        "\n",
        "most of the values are skewed to one category which is the white but this gap might be acceptable\n",
        "\n"
      ]
    },
    {
      "cell_type": "code",
      "metadata": {
        "id": "RNAgo4GzEekW",
        "colab": {
          "base_uri": "https://localhost:8080/"
        },
        "outputId": "26b92d4a-e3c2-4a63-89ed-dca860a21bc3"
      },
      "source": [
        "train['race'].value_counts()"
      ],
      "execution_count": null,
      "outputs": [
        {
          "output_type": "execute_result",
          "data": {
            "text/plain": [
              "White                 27078\n",
              "Black                  2923\n",
              "Asian-Pac-Islander     1035\n",
              "Amer-Indian-Eskimo      310\n",
              "Other                   268\n",
              "Name: race, dtype: int64"
            ]
          },
          "metadata": {
            "tags": []
          },
          "execution_count": 249
        }
      ]
    },
    {
      "cell_type": "markdown",
      "metadata": {
        "id": "fsKfo77PgPHR"
      },
      "source": [
        "this is nothing can be inferred from the graph because the data is skewed and the correlation is small between the income and the race"
      ]
    },
    {
      "cell_type": "code",
      "metadata": {
        "id": "Sb1Q4t4veyj9",
        "colab": {
          "base_uri": "https://localhost:8080/",
          "height": 624
        },
        "outputId": "433eaa9b-139a-4e4c-b468-2f02b2ae07af"
      },
      "source": [
        "plt.figure(figsize=(20,10))\n",
        "sns.countplot(x=\"race\", hue=\"income\", data=train)"
      ],
      "execution_count": null,
      "outputs": [
        {
          "output_type": "execute_result",
          "data": {
            "text/plain": [
              "<matplotlib.axes._subplots.AxesSubplot at 0x7f853e8d7748>"
            ]
          },
          "metadata": {
            "tags": []
          },
          "execution_count": 250
        },
        {
          "output_type": "display_data",
          "data": {
            "image/png": "[encoded data removed]",
            "text/plain": [
              "<Figure size 1440x720 with 1 Axes>"
            ]
          },
          "metadata": {
            "tags": []
          }
        }
      ]
    },
    {
      "cell_type": "code",
      "metadata": {
        "id": "aKo6KZm5e58R"
      },
      "source": [
        "train['race'] = LabelEncoder().fit_transform(train['race'])"
      ],
      "execution_count": null,
      "outputs": []
    },
    {
      "cell_type": "code",
      "metadata": {
        "id": "yoslSiDFgg2D",
        "colab": {
          "base_uri": "https://localhost:8080/"
        },
        "outputId": "b613d717-b527-44e1-feb5-df2dbd092ae0"
      },
      "source": [
        "train.corr()['income']['race']"
      ],
      "execution_count": null,
      "outputs": [
        {
          "output_type": "execute_result",
          "data": {
            "text/plain": [
              "0.07150712278039872"
            ]
          },
          "metadata": {
            "tags": []
          },
          "execution_count": 252
        }
      ]
    },
    {
      "cell_type": "markdown",
      "metadata": {
        "id": "uhXG6KyLfQsB"
      },
      "source": [
        "**11. Sex**"
      ]
    },
    {
      "cell_type": "markdown",
      "metadata": {
        "id": "XqkEylsQgp5E"
      },
      "source": [
        "the sex is categorized into the two binary genders and the data is skewed towards the male category but the gap is not considerable"
      ]
    },
    {
      "cell_type": "code",
      "metadata": {
        "id": "BMk7aoZifC9v",
        "colab": {
          "base_uri": "https://localhost:8080/"
        },
        "outputId": "59609ba1-cb1c-4541-be5d-026da2803357"
      },
      "source": [
        "train['sex'].value_counts()"
      ],
      "execution_count": null,
      "outputs": [
        {
          "output_type": "execute_result",
          "data": {
            "text/plain": [
              "Male      21104\n",
              "Female    10510\n",
              "Name: sex, dtype: int64"
            ]
          },
          "metadata": {
            "tags": []
          },
          "execution_count": 253
        }
      ]
    },
    {
      "cell_type": "markdown",
      "metadata": {
        "id": "IHZPGFiUg1JV"
      },
      "source": [
        "the graph says that most of people who earn more than 50 are males and this column might give a glimpse abput the income"
      ]
    },
    {
      "cell_type": "code",
      "metadata": {
        "id": "QWIo8OdAfL0V",
        "colab": {
          "base_uri": "https://localhost:8080/",
          "height": 624
        },
        "outputId": "1bdba30c-4ecf-4e0a-be32-e642b044963d"
      },
      "source": [
        "plt.figure(figsize=(20,10))\n",
        "sns.countplot(x=\"sex\", hue=\"income\", data=train)"
      ],
      "execution_count": null,
      "outputs": [
        {
          "output_type": "execute_result",
          "data": {
            "text/plain": [
              "<matplotlib.axes._subplots.AxesSubplot at 0x7f853b717470>"
            ]
          },
          "metadata": {
            "tags": []
          },
          "execution_count": 254
        },
        {
          "output_type": "display_data",
          "data": {
            "image/png": "[encoded data removed]",
            "text/plain": [
              "<Figure size 1440x720 with 1 Axes>"
            ]
          },
          "metadata": {
            "tags": []
          }
        }
      ]
    },
    {
      "cell_type": "code",
      "metadata": {
        "id": "6mGYRlR7fir_"
      },
      "source": [
        "train['sex'] = LabelEncoder().fit_transform(train['sex'])"
      ],
      "execution_count": null,
      "outputs": []
    },
    {
      "cell_type": "markdown",
      "metadata": {
        "id": "7r93AN84hMXU"
      },
      "source": [
        "the correlation is significant so we can use this column as a feature"
      ]
    },
    {
      "cell_type": "code",
      "metadata": {
        "id": "HA5Io3MJfrhT",
        "colab": {
          "base_uri": "https://localhost:8080/"
        },
        "outputId": "84528486-cca1-413c-bbf9-631b5c4e0ced"
      },
      "source": [
        "train.corr()['income']['sex']"
      ],
      "execution_count": null,
      "outputs": [
        {
          "output_type": "execute_result",
          "data": {
            "text/plain": [
              "0.21751947332001148"
            ]
          },
          "metadata": {
            "tags": []
          },
          "execution_count": 256
        }
      ]
    },
    {
      "cell_type": "markdown",
      "metadata": {
        "id": "UbunkS7ihQ-8"
      },
      "source": [
        "**12. hours per week**"
      ]
    },
    {
      "cell_type": "markdown",
      "metadata": {
        "id": "pvMX2BDjh4X9"
      },
      "source": [
        "this column has a lot of unique values and the range between the minimum and the maximum is signficant compared to the nature of the column which is the hours one works a week"
      ]
    },
    {
      "cell_type": "code",
      "metadata": {
        "id": "Vxam89RnfsZw",
        "colab": {
          "base_uri": "https://localhost:8080/"
        },
        "outputId": "726d329e-21d5-4c9d-dfc2-17ec116f0ec5"
      },
      "source": [
        "train['hours.per.week'].unique()"
      ],
      "execution_count": null,
      "outputs": [
        {
          "output_type": "execute_result",
          "data": {
            "text/plain": [
              "array([40, 18, 45, 20, 60, 35, 55, 76, 50, 42, 25, 32, 90, 48, 15, 70, 52,\n",
              "       72, 39,  6, 65, 12, 80, 67, 99, 30, 75, 26, 36, 10, 84, 38, 62, 44,\n",
              "        8, 28, 59,  5, 24, 57, 34, 37, 46, 56, 41, 98, 43, 63,  1, 47, 68,\n",
              "       54, 16,  9,  3,  4, 33, 23, 22, 64, 51, 19, 58,  2, 53, 96, 66, 21,\n",
              "        7, 13, 27, 11, 14, 77, 31, 78, 49, 17, 85, 87, 88, 73, 89, 97, 94,\n",
              "       29, 82, 86, 91, 81, 92, 61, 74, 95])"
            ]
          },
          "metadata": {
            "tags": []
          },
          "execution_count": 257
        }
      ]
    },
    {
      "cell_type": "code",
      "metadata": {
        "id": "rPH2wwRNhazl",
        "colab": {
          "base_uri": "https://localhost:8080/"
        },
        "outputId": "faddd8c9-f505-472f-ccb2-d2dd618754e6"
      },
      "source": [
        "print(train['hours.per.week'].min(), train['hours.per.week'].max())"
      ],
      "execution_count": null,
      "outputs": [
        {
          "output_type": "stream",
          "text": [
            "1 99\n"
          ],
          "name": "stdout"
        }
      ]
    },
    {
      "cell_type": "markdown",
      "metadata": {
        "id": "29T3gGPtiV9V"
      },
      "source": [
        "the boxplot shows a lot of outliers so we might think of grouping them into 5 categories"
      ]
    },
    {
      "cell_type": "code",
      "metadata": {
        "id": "5iXRJmeuhhlf",
        "colab": {
          "base_uri": "https://localhost:8080/",
          "height": 283
        },
        "outputId": "60b5e126-ca7c-4ed2-858e-571e02babc9c"
      },
      "source": [
        "fig, ax = plt.subplots()\n",
        "train.boxplot(column = 'hours.per.week',ax =ax)"
      ],
      "execution_count": null,
      "outputs": [
        {
          "output_type": "execute_result",
          "data": {
            "text/plain": [
              "<matplotlib.axes._subplots.AxesSubplot at 0x7f853ed7e0f0>"
            ]
          },
          "metadata": {
            "tags": []
          },
          "execution_count": 259
        },
        {
          "output_type": "display_data",
          "data": {
            "image/png": "[encoded data removed]",
            "text/plain": [
              "<Figure size 432x288 with 1 Axes>"
            ]
          },
          "metadata": {
            "tags": []
          }
        }
      ]
    },
    {
      "cell_type": "code",
      "metadata": {
        "id": "fqS0GoZoh-FL",
        "colab": {
          "base_uri": "https://localhost:8080/"
        },
        "outputId": "1d3d659f-ded0-4a1e-dbdd-1264670720d1"
      },
      "source": [
        "bins = [0,20,40,60,80,100]\n",
        "names = ['0 : 20', '21 : 40', '41 : 60', '61 : 80', '81 : 100']\n",
        "i=0\n",
        "categories = {}\n",
        "while(i<len(names)):\n",
        "    categories[names[i]] = i\n",
        "    i+=1\n",
        "categories"
      ],
      "execution_count": null,
      "outputs": [
        {
          "output_type": "execute_result",
          "data": {
            "text/plain": [
              "{'0 : 20': 0, '21 : 40': 1, '41 : 60': 2, '61 : 80': 3, '81 : 100': 4}"
            ]
          },
          "metadata": {
            "tags": []
          },
          "execution_count": 260
        }
      ]
    },
    {
      "cell_type": "code",
      "metadata": {
        "id": "MGarHURki7Zt"
      },
      "source": [
        "train['hours.range'] = pd.cut(train['hours.per.week'], bins, labels=names)\n",
        "train['hours.range'] = train['hours.range'].map(categories)\n",
        "train['hours.range'] = pd.to_numeric(train['hours.range'])\n",
        "train['hours.range'].fillna(0, inplace=True)"
      ],
      "execution_count": null,
      "outputs": []
    },
    {
      "cell_type": "code",
      "metadata": {
        "id": "KYPxkdbDjHyj",
        "colab": {
          "base_uri": "https://localhost:8080/"
        },
        "outputId": "25219741-a7c4-4cd8-9c5e-a1268f4349cc"
      },
      "source": [
        "train['hours.range'].value_counts()"
      ],
      "execution_count": null,
      "outputs": [
        {
          "output_type": "execute_result",
          "data": {
            "text/plain": [
              "1    19426\n",
              "2     8255\n",
              "0     2847\n",
              "3      882\n",
              "4      204\n",
              "Name: hours.range, dtype: int64"
            ]
          },
          "metadata": {
            "tags": []
          },
          "execution_count": 262
        }
      ]
    },
    {
      "cell_type": "markdown",
      "metadata": {
        "id": "IRnTaN5fjZSJ"
      },
      "source": [
        "we can infer that the third category is the one that has the biggest ratio of instances with an income of >50k"
      ]
    },
    {
      "cell_type": "code",
      "metadata": {
        "id": "w5ea-VpSjI1U",
        "colab": {
          "base_uri": "https://localhost:8080/",
          "height": 624
        },
        "outputId": "96f4401c-7c51-4257-d420-019614e17ad8"
      },
      "source": [
        "plt.figure(figsize=(20,10))\n",
        "sns.countplot(x=\"hours.range\", hue=\"income\", data=train)"
      ],
      "execution_count": null,
      "outputs": [
        {
          "output_type": "execute_result",
          "data": {
            "text/plain": [
              "<matplotlib.axes._subplots.AxesSubplot at 0x7f853f344940>"
            ]
          },
          "metadata": {
            "tags": []
          },
          "execution_count": 263
        },
        {
          "output_type": "display_data",
          "data": {
            "image/png": "[encoded data removed]",
            "text/plain": [
              "<Figure size 1440x720 with 1 Axes>"
            ]
          },
          "metadata": {
            "tags": []
          }
        }
      ]
    },
    {
      "cell_type": "markdown",
      "metadata": {
        "id": "V6AZwhRQjys6"
      },
      "source": [
        "we can find that the correlation of the new column with the income is 0.5 percent more than the old one"
      ]
    },
    {
      "cell_type": "code",
      "metadata": {
        "id": "P7hzGXxQjQ01",
        "colab": {
          "base_uri": "https://localhost:8080/"
        },
        "outputId": "a338c174-3f4a-48b4-bb36-0422b9f4c223"
      },
      "source": [
        "train.corr()['income']['hours.range']"
      ],
      "execution_count": null,
      "outputs": [
        {
          "output_type": "execute_result",
          "data": {
            "text/plain": [
              "0.23354716504479883"
            ]
          },
          "metadata": {
            "tags": []
          },
          "execution_count": 264
        }
      ]
    },
    {
      "cell_type": "code",
      "metadata": {
        "id": "8rYXsOqWjtfb",
        "colab": {
          "base_uri": "https://localhost:8080/"
        },
        "outputId": "5523b59d-55fd-4a44-80a4-02eb71df1d1d"
      },
      "source": [
        "train.corr()['income']['hours.per.week']"
      ],
      "execution_count": null,
      "outputs": [
        {
          "output_type": "execute_result",
          "data": {
            "text/plain": [
              "0.22962713909841756"
            ]
          },
          "metadata": {
            "tags": []
          },
          "execution_count": 265
        }
      ]
    },
    {
      "cell_type": "markdown",
      "metadata": {
        "id": "edVtjMjHZ8nK"
      },
      "source": [
        "**Model Selection**"
      ]
    },
    {
      "cell_type": "markdown",
      "metadata": {
        "id": "qaOtOFljBXep"
      },
      "source": [
        "checking the data types to ensure that all the features can be used in the model without further processing: "
      ]
    },
    {
      "cell_type": "code",
      "metadata": {
        "id": "EXhZgsfcce0y",
        "colab": {
          "base_uri": "https://localhost:8080/"
        },
        "outputId": "a1619bef-083a-4b51-b213-7b7fdf28e849"
      },
      "source": [
        "train.dtypes"
      ],
      "execution_count": null,
      "outputs": [
        {
          "output_type": "execute_result",
          "data": {
            "text/plain": [
              "age                 int64\n",
              "workclass           int64\n",
              "fnlwgt              int64\n",
              "education.num       int64\n",
              "marital.status      int64\n",
              "occupation          int64\n",
              "relationship        int64\n",
              "race                int64\n",
              "sex                 int64\n",
              "capital.gain        int64\n",
              "capital.loss        int64\n",
              "hours.per.week      int64\n",
              "income               int8\n",
              "AgeRange          float64\n",
              "capital.net         int64\n",
              "capital.range     float64\n",
              "hours.range         int64\n",
              "dtype: object"
            ]
          },
          "metadata": {
            "tags": []
          },
          "execution_count": 266
        }
      ]
    },
    {
      "cell_type": "code",
      "metadata": {
        "id": "kiMod5a8bz3b"
      },
      "source": [
        "X = train.drop('income', axis=1)\n",
        "y = train['income']\n",
        "X_train, X_test, y_train, y_test = train_test_split(X, y, random_state=0)\n",
        "X_train, X_validation, y_train, y_validation = train_test_split(X_train, y_train,random_state=0, test_size = 0.1)"
      ],
      "execution_count": null,
      "outputs": []
    },
    {
      "cell_type": "markdown",
      "metadata": {
        "id": "899-xCpID52s"
      },
      "source": [
        "Lets first check what accuracy a dummy classifier will result in: "
      ]
    },
    {
      "cell_type": "code",
      "metadata": {
        "id": "LFiGJBuUDj1r",
        "colab": {
          "base_uri": "https://localhost:8080/"
        },
        "outputId": "bc60a417-ca0e-4a72-e38d-9ad1c4abd774"
      },
      "source": [
        "from sklearn.dummy import DummyClassifier\n",
        "dummy_majority = DummyClassifier(strategy = 'most_frequent').fit(X_train, y_train)\n",
        "dummy_majority.score(X_validation, y_validation)"
      ],
      "execution_count": null,
      "outputs": [
        {
          "output_type": "execute_result",
          "data": {
            "text/plain": [
              "0.7330240404892451"
            ]
          },
          "metadata": {
            "tags": []
          },
          "execution_count": 268
        }
      ]
    },
    {
      "cell_type": "markdown",
      "metadata": {
        "id": "Fepm88MTMhRN"
      },
      "source": [
        "A dummy classifier will result in an accuracy of 73%"
      ]
    },
    {
      "cell_type": "markdown",
      "metadata": {
        "id": "2Yruj32PakyQ"
      },
      "source": [
        "We will use grid search to tune hyperparameters to improve model performance. "
      ]
    },
    {
      "cell_type": "code",
      "metadata": {
        "id": "oVGmhe_OrPyM"
      },
      "source": [
        "def get_best_model_and_accuracy(model, params, X_train, y_train, X_validation, y_validation):\n",
        "    grid_clf_auc = GridSearchCV(model,param_grid=params,error_score=0.,scoring = 'roc_auc', cv=3)\n",
        "    grid_clf_auc.fit(X_train, y_train) # fit the model and parameters\n",
        "    print('Grid best parameter (max. AUC): ', grid_clf_auc.best_params_)\n",
        "    print('Grid best score (AUC): ', grid_clf_auc.best_score_)"
      ],
      "execution_count": null,
      "outputs": []
    },
    {
      "cell_type": "code",
      "metadata": {
        "id": "ktHctbJUvlhM"
      },
      "source": [
        "def get_best_tree_model_and_accuracy(model, params, X_train, y_train, X_validation, y_validation):\n",
        "    grid_clf_auc = GridSearchCV(model,param_grid=params,error_score=0.,scoring = 'roc_auc', cv=3)\n",
        "    grid_clf_auc.fit(X_train, y_train) # fit the model and parameters\n",
        "    print('Grid best parameter (max. AUC): ', grid_clf_auc.best_params_)\n",
        "    print('Grid best score (AUC): ', grid_clf_auc.best_score_)\n",
        "    print('test score (AUC)', roc_auc_score(y_validation, grid_clf_auc.predict_proba(X_validation)[:,1]))"
      ],
      "execution_count": null,
      "outputs": []
    },
    {
      "cell_type": "markdown",
      "metadata": {
        "id": "2NEFvKK9__4T"
      },
      "source": [
        "*Trying the Extra Trees model*"
      ]
    },
    {
      "cell_type": "code",
      "metadata": {
        "id": "n_N6pADLAUOH",
        "colab": {
          "base_uri": "https://localhost:8080/"
        },
        "outputId": "73b5f75b-5221-4c49-e0bf-32d367fd8ea3"
      },
      "source": [
        "param_grid={'n_estimators':[400, 500,700], 'max_depth':[9,10,15,20],\n",
        "            'min_samples_split':[2,3,4,5], 'min_samples_leaf':[2,3,4]}\n",
        "ET= ExtraTreesClassifier(random_state=0) \n",
        "get_best_tree_model_and_accuracy(ET, param_grid, X_train, y_train, X_validation, y_validation)"
      ],
      "execution_count": null,
      "outputs": [
        {
          "output_type": "stream",
          "text": [
            "Grid best parameter (max. AUC):  {'max_depth': 20, 'min_samples_leaf': 2, 'min_samples_split': 2, 'n_estimators': 700}\n",
            "Grid best score (AUC):  0.9157347589987245\n",
            "test score (AUC) 0.9205065836237472\n"
          ],
          "name": "stdout"
        }
      ]
    },
    {
      "cell_type": "markdown",
      "metadata": {
        "id": "cN5YFvIABsqB"
      },
      "source": [
        "further tuning:"
      ]
    },
    {
      "cell_type": "code",
      "metadata": {
        "id": "q2mmliqg1xz8",
        "colab": {
          "background_save": true
        },
        "outputId": "28e7dd00-65c3-4292-bccd-c9ba11301740"
      },
      "source": [
        "param_grid={'n_estimators':[500,600,700,800], 'max_depth':[20,30,40],\n",
        "            'min_samples_leaf':[1,2]}\n",
        "ET= ExtraTreesClassifier(random_state=0, min_samples_split=5) \n",
        "get_best_tree_model_and_accuracy(ET, param_grid, X_train, y_train, X_validation, y_validation)"
      ],
      "execution_count": null,
      "outputs": [
        {
          "output_type": "stream",
          "text": [
            "Grid best parameter (max. AUC):  {'max_depth': 20, 'min_samples_leaf': 1, 'n_estimators': 600}\n",
            "Grid best score (AUC):  0.9157059171652415\n",
            "test score (AUC) 0.9213119254213502\n"
          ],
          "name": "stdout"
        }
      ]
    },
    {
      "cell_type": "markdown",
      "metadata": {
        "id": "aSosihuxDbZh"
      },
      "source": [
        "so we end up with a final accuracy of 92% using ExtraTrees with hyperparamteters : n_estimator= 600, maxdepth= 20 and min_samples_leaf of 1."
      ]
    },
    {
      "cell_type": "markdown",
      "metadata": {
        "id": "U0nJ_fLECt2V"
      },
      "source": [
        "*trying svm model*"
      ]
    },
    {
      "cell_type": "code",
      "metadata": {
        "id": "OoVbPzEraSFg",
        "colab": {
          "background_save": true
        },
        "outputId": "d79d9b75-4209-4859-e998-9a397cfb9ab2"
      },
      "source": [
        "clf = svm.SVC()\n",
        "param_grid = {'C': [0.1,1, 10], 'gamma': [1,0.1,0.01,0.001],'kernel': ['rbf']}\n",
        "get_best_model_and_accuracy(clf, param_grid, X_train, y_train, X_validation, y_validation)"
      ],
      "execution_count": null,
      "outputs": [
        {
          "output_type": "stream",
          "text": [
            "Grid best parameter (max. AUC):  {'C': 1, 'gamma': 0.001, 'kernel': 'rbf'}\n",
            "Grid best score (AUC):  0.6287723852409666\n"
          ],
          "name": "stdout"
        }
      ]
    },
    {
      "cell_type": "markdown",
      "metadata": {
        "id": "pyT1vSzTbz5h"
      },
      "source": [
        "*trying the random forest classifier model*\n",
        "\n"
      ]
    },
    {
      "cell_type": "code",
      "metadata": {
        "id": "iJa6tf7bSk0x",
        "colab": {
          "background_save": true,
          "base_uri": "https://localhost:8080/"
        },
        "outputId": "6ed67efc-6cf4-4a6f-9283-84924252c872"
      },
      "source": [
        "param_grid = {\n",
        "    'n_estimators': [100,500,1000],\n",
        "    'max_features': ['auto', 'sqrt', 'log2'],\n",
        "    'max_depth' : [4,5,6,7,8],\n",
        "}\n",
        "\n",
        "rf = RandomForestClassifier(n_jobs=-1)\n",
        "get_best_tree_model_and_accuracy(rf, param_grid, X_train, y_train, X_validation, y_validation)\n"
      ],
      "execution_count": null,
      "outputs": [
        {
          "output_type": "stream",
          "text": [
            "Grid best parameter (max. AUC):  {'max_depth': 8, 'max_features': 'sqrt', 'n_estimators': 1000}\n",
            "Grid best score (AUC):  0.9128247174549114\n",
            "test score (AUC) 0.9178146877618951\n"
          ],
          "name": "stdout"
        }
      ]
    },
    {
      "cell_type": "markdown",
      "metadata": {
        "id": "8i2YdlMV2ToT"
      },
      "source": [
        "since the values chosen from the gridsearch of both the n_estimators and the max_depth are the maximum so we should make another gridsearch and increase the parameters with the max features chosen to be sqrt"
      ]
    },
    {
      "cell_type": "code",
      "metadata": {
        "id": "0nZoP9Sl2R6w",
        "colab": {
          "background_save": true
        },
        "outputId": "be22dbc9-4924-499d-d9f3-a95bf2ebfea3"
      },
      "source": [
        "param_grid = {\n",
        "    'n_estimators': [1000, 2000, 3000],\n",
        "    'max_depth' : [8,9,10,11,12],\n",
        "}\n",
        "\n",
        "rf = RandomForestClassifier(n_jobs=-1, max_features='sqrt')\n",
        "get_best_tree_model_and_accuracy(rf, param_grid, X_train, y_train, X_validation, y_validation)\n"
      ],
      "execution_count": null,
      "outputs": [
        {
          "output_type": "stream",
          "text": [
            "Grid best parameter (max. AUC):  {'max_depth': 12, 'n_estimators': 1000}\n",
            "Grid best score (AUC):  0.9171610102677651\n",
            "test score (AUC) 0.9218318526315409\n"
          ],
          "name": "stdout"
        }
      ]
    },
    {
      "cell_type": "markdown",
      "metadata": {
        "id": "ITrtKVZ7qyPd"
      },
      "source": [
        "since again that the parameter chosen were the maximum so we should run another gridsearch and increase the parameters with larger scales"
      ]
    },
    {
      "cell_type": "code",
      "metadata": {
        "id": "g2_XF8R-9bEb"
      },
      "source": [
        "param_grid = {\n",
        "    'n_estimators': [ 3000, 50000, 7000],\n",
        "    'max_depth' : [12,14,16,18],\n",
        "}\n",
        "\n",
        "rf = RandomForestClassifier(n_jobs=-1, max_features='sqrt')\n",
        "get_best_tree_model_and_accuracy(rf, param_grid, X_train, y_train, X_validation, y_validation)\n"
      ],
      "execution_count": null,
      "outputs": []
    },
    {
      "cell_type": "markdown",
      "metadata": {
        "id": "ElOVAX0Pq-k_"
      },
      "source": [
        "the model has started to overfit on the number of estimators so we should stick back to the last gridsearch and search around it with max depth 14 and around"
      ]
    },
    {
      "cell_type": "code",
      "metadata": {
        "id": "l-Ipif8cd9dH"
      },
      "source": [
        "param_grid = {\n",
        "    'n_estimators': [ 3000, 4000, 5000],\n",
        "    'max_depth' : [11,12,13,14,15],\n",
        "}\n",
        "\n",
        "rf = RandomForestClassifier(n_jobs=-1, max_features='sqrt')\n",
        "get_best_tree_model_and_accuracy(rf, param_grid, X_train, y_train, X_validation, y_validation)\n"
      ],
      "execution_count": null,
      "outputs": []
    },
    {
      "cell_type": "markdown",
      "metadata": {
        "id": "0tn9of5SOLDo"
      },
      "source": [
        "since the max depth is 13 which is in the of the grid so it's our best hyperparameter, however for the number of estimators we can take 4000 + or - 500 to make sure it's our best choice"
      ]
    },
    {
      "cell_type": "code",
      "metadata": {
        "id": "DYI8njkrOKHD"
      },
      "source": [
        "param_grid = {\n",
        "    'n_estimators': [ 3500, 4000, 4500],\n",
        "}\n",
        "\n",
        "rf = RandomForestClassifier(n_jobs=-1, max_features='sqrt', max_depth=13)\n",
        "get_best_tree_model_and_accuracy(rf, param_grid, X_train, y_train, X_validation, y_validation)\n"
      ],
      "execution_count": null,
      "outputs": []
    },
    {
      "cell_type": "markdown",
      "metadata": {
        "id": "xbRgi-msQkiZ"
      },
      "source": [
        "another grid search for 4500 + or - 250"
      ]
    },
    {
      "cell_type": "code",
      "metadata": {
        "id": "iIzqa8zOQjtr"
      },
      "source": [
        "param_grid = {\n",
        "    'n_estimators': [ 4250, 4500, 4750],\n",
        "}\n",
        "\n",
        "rf = RandomForestClassifier(n_jobs=-1, max_features='sqrt', max_depth=13)\n",
        "get_best_tree_model_and_accuracy(rf, param_grid, X_train, y_train, X_validation, y_validation)\n"
      ],
      "execution_count": null,
      "outputs": []
    },
    {
      "cell_type": "markdown",
      "metadata": {
        "id": "gQ826U97S2MK"
      },
      "source": [
        "it didn't overfit, so we conclude that the best random forest model have the 3 hyperparameters max_features = sqrt and max_depth = 13 and n_estimators = 4750"
      ]
    },
    {
      "cell_type": "markdown",
      "metadata": {
        "id": "a-MqtqRLAqci"
      },
      "source": [
        "**Choosing the best model**"
      ]
    },
    {
      "cell_type": "markdown",
      "metadata": {
        "id": "WoA6Qj5-AakY"
      },
      "source": [
        "ExtraTrees and RandomForest are the best options for this data as they provide higher accuracy. We will ignore svm since its accuracy is very low on this data and is doing worse than the dummy classifier. ExtraTrees and RandomForest show an increase of around 30% compared to the dummy classifier."
      ]
    },
    {
      "cell_type": "markdown",
      "metadata": {
        "id": "TkW4BgzUApnM"
      },
      "source": [
        "This is a graph that allows us to identify the features that had greater impact on the target column according to these classifiers. "
      ]
    },
    {
      "cell_type": "code",
      "metadata": {
        "id": "upgXKYhrn3cu"
      },
      "source": [
        "rf= rf.fit(X_train, y_train)\n",
        "arr= dict(zip(X_train.columns,rf.feature_importances_))\n",
        "data= pd.DataFrame.from_dict(arr,orient='index', columns=['importance'])\n",
        "features= data.sort_values(['importance'], ascending=False)\n",
        "features.plot.bar(y=\"importance\", rot=70, title=\"RandomForest Features with their corresponding importance values\")"
      ],
      "execution_count": null,
      "outputs": []
    },
    {
      "cell_type": "markdown",
      "metadata": {
        "id": "9YL2GyqaL5oh"
      },
      "source": [
        "According to Random Forest, the top three features marital status, education.num and capital.net are the top 3 featurs. "
      ]
    },
    {
      "cell_type": "code",
      "metadata": {
        "id": "L231_4IVBEQb"
      },
      "source": [
        "ET= ET.fit(X_train, y_train)\n",
        "arr= dict(zip(X_train.columns,ET.feature_importances_))\n",
        "data= pd.DataFrame.from_dict(arr,orient='index', columns=['importance'])\n",
        "features= data.sort_values(['importance'], ascending=False)\n",
        "features.plot.bar(y=\"importance\", rot=70, title=\"ExtraTrees Features with their corresponding importance values\")"
      ],
      "execution_count": null,
      "outputs": []
    },
    {
      "cell_type": "markdown",
      "metadata": {
        "id": "qcwJfZ2NCck7"
      },
      "source": [
        "According to ExtraTrees, the top three relevant features are fnlwgt, education.num, and age."
      ]
    },
    {
      "cell_type": "markdown",
      "metadata": {
        "id": "J4H6vbloMDiQ"
      },
      "source": [
        "We can conclude the education.num is the feature with a high influence in both classifiers, and hence it is the most important one.\n"
      ]
    },
    {
      "cell_type": "markdown",
      "metadata": {
        "id": "zSWfeudPzbmZ"
      },
      "source": [
        "*Trying the neural network model*"
      ]
    },
    {
      "cell_type": "code",
      "metadata": {
        "id": "meGBL1nT28My"
      },
      "source": [
        "print(X_train.shape)\n",
        "print(y_train.shape)\n",
        "print()\n",
        "print(X_validation.shape)\n",
        "print(y_validation.shape)\n"
      ],
      "execution_count": null,
      "outputs": []
    },
    {
      "cell_type": "code",
      "metadata": {
        "id": "zymVOOKDzgSg"
      },
      "source": [
        "from keras import layers\n",
        "from keras import models\n",
        "from keras import optimizers\n",
        "from keras import losses\n",
        "from keras import regularizers\n",
        "from keras import metrics\n",
        "\n",
        "model = models.Sequential([\n",
        "                           #layers.Flatten(input_shape = (X_train.shape[0],)),\n",
        "                           layers.Dense(80, activation='relu', kernel_regularizer=regularizers.l2(0.003), input_shape = X_train.shape),\n",
        "                           layers.Dropout(0.5),\n",
        "                           layers.Dense(40, activation='relu', kernel_regularizer=regularizers.l2(0.003)),\n",
        "                           layers.Dropout(0.5),\n",
        "                           layers.Dense(1,activation='sigmoid')\n",
        "])\n",
        "\n",
        "model.compile(optimizer = 'adam', loss = 'binary_crossentropy', metrics = ['accuracy'])\n",
        "model.fit(X_train, y_train, epochs=4, batch_size=512, validation_data=(X_validation, y_validation))\n",
        "\n",
        "print(\"\\nscore on train: \"+ str(model.evaluate(X_train,y_train)[1]))\n",
        "print(\"score on test: \" + str(model.evaluate(X_test,y_test)[1]))"
      ],
      "execution_count": null,
      "outputs": []
    },
    {
      "cell_type": "code",
      "metadata": {
        "id": "eZQur1qNzmxD"
      },
      "source": [
        "import pandas as pd\n",
        "from sklearn import preprocessing\n",
        "from sklearn.preprocessing import OneHotEncoder\n",
        "\n",
        "import keras\n",
        "from keras.models import Sequential\n",
        "from keras.layers.core import Dense, Dropout, Activation\n",
        "from keras.layers import BatchNormalization\n",
        "from keras.optimizers import SGD,Adam\n",
        "from sklearn.model_selection import train_test_split \n"
      ],
      "execution_count": null,
      "outputs": []
    },
    {
      "cell_type": "code",
      "metadata": {
        "id": "vwXPax3LBtgE"
      },
      "source": [
        "y_train_NN=train['income'].array;\n",
        "x_train_NN=train.drop('income',inplace=False,axis=1)\n",
        "x_train"
      ],
      "execution_count": null,
      "outputs": []
    },
    {
      "cell_type": "code",
      "metadata": {
        "id": "TM8pXknrB8b8"
      },
      "source": [
        "y_train_NN=y_train_NN.to_numpy().reshape(len(y_train_NN),1)\n",
        "print(y_train_NN.shape)\n",
        "y_train_NN"
      ],
      "execution_count": null,
      "outputs": []
    }
  ]
}